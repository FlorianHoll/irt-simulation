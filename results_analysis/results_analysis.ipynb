{
 "cells": [
  {
   "cell_type": "markdown",
   "id": "3bf481e2",
   "metadata": {},
   "source": [
    "# Analysis of the simulation of 40 items"
   ]
  },
  {
   "cell_type": "markdown",
   "id": "4c8b074a",
   "metadata": {},
   "source": [
    "The overarching goal is to find out how many persons are sufficient for estimating a sensible IRT model with 40 items. "
   ]
  },
  {
   "cell_type": "markdown",
   "id": "fcce200f",
   "metadata": {},
   "source": [
    "\n",
    "### Contents\n",
    "\n",
    "\n",
    "* **[Data Preparation](#data_prep)**\n",
    "* **[Alpha deviations](#alpha_dev)**\n",
    "    * [Descriptive analyses](#alpha_dev_descriptive)\n",
    "    * [Statistical tests and models](#alpha_dev_stats)\n",
    "* **[Beta deviations](#beta_dev)**\n",
    "    * [Descriptive analyses](#beta_dev_descriptive)\n",
    "    * [Statistical tests and models](#beta_dev_stats)\n",
    "* **[Theta deviations](#theta_dev)**\n",
    "    * [Descriptive analyses](#theta_dev_descriptive)\n",
    "    * [Statistical tests and models](#theta_dev_stats)\n",
    "* **[Conclusions](#conclusions)**"
   ]
  },
  {
   "cell_type": "code",
   "execution_count": 28,
   "id": "38c87a0b",
   "metadata": {
    "scrolled": false
   },
   "outputs": [
    {
     "name": "stderr",
     "output_type": "stream",
     "text": [
      "Loading required package: nlme\n",
      "\n",
      "\n",
      "Attaching package: 'nlme'\n",
      "\n",
      "\n",
      "The following object is masked from 'package:dplyr':\n",
      "\n",
      "    collapse\n",
      "\n",
      "\n",
      "This is mgcv 1.8-40. For overview type 'help(\"mgcv-package\")'.\n",
      "\n"
     ]
    }
   ],
   "source": [
    "library(\"tidyverse\")\n",
    "library(\"mgcv\")"
   ]
  },
  {
   "cell_type": "code",
   "execution_count": 2,
   "id": "16cb35c6",
   "metadata": {},
   "outputs": [],
   "source": [
    "source(\"utils.R\")"
   ]
  },
  {
   "cell_type": "markdown",
   "id": "a49b05b7",
   "metadata": {},
   "source": [
    "<a id='data_prep'></a>\n",
    "## Data preparation"
   ]
  },
  {
   "cell_type": "markdown",
   "id": "1f0fbfa8",
   "metadata": {},
   "source": [
    "We want to analyze the results from the simulation with 40 items and a differing number of persons."
   ]
  },
  {
   "cell_type": "code",
   "execution_count": 3,
   "id": "2ef7e78a",
   "metadata": {},
   "outputs": [],
   "source": [
    "RESULT_FOLDER = \"../results/sim_40_items_results/\""
   ]
  },
  {
   "cell_type": "code",
   "execution_count": 4,
   "id": "ecf22526",
   "metadata": {},
   "outputs": [],
   "source": [
    "# read in data\n",
    "results <- list.files(RESULT_FOLDER, \"*.Rds\")"
   ]
  },
  {
   "cell_type": "code",
   "execution_count": 5,
   "id": "1f972d4d",
   "metadata": {},
   "outputs": [],
   "source": [
    "alpha_results <- lapply(results, function(x) {\n",
    "  r <- readRDS(paste0(RESULT_FOLDER, x))\n",
    "  get_alpha_deviations(r)  # function from utils\n",
    "})\n",
    "alpha_results <- do.call(rbind, alpha_results)  # rbind all results into one big data frame."
   ]
  },
  {
   "cell_type": "code",
   "execution_count": 6,
   "id": "e7bce41e",
   "metadata": {},
   "outputs": [],
   "source": [
    "beta_results <- lapply(results, function(x) {\n",
    "  r <- readRDS(paste0(RESULT_FOLDER, x))\n",
    "  get_beta_deviations(r)  # function from utils\n",
    "})\n",
    "beta_results <- do.call(rbind, beta_results)  # rbind all results into one big data frame."
   ]
  },
  {
   "cell_type": "code",
   "execution_count": 7,
   "id": "bf51beea",
   "metadata": {},
   "outputs": [],
   "source": [
    "theta_results <- lapply(results, function(x) {\n",
    "  r <- readRDS(paste0(RESULT_FOLDER, x))\n",
    "  get_theta_deviations(r)  # function from utils\n",
    "})\n",
    "theta_results <- do.call(rbind, theta_results)  # rbind all results into one big data frame."
   ]
  },
  {
   "cell_type": "code",
   "execution_count": 8,
   "id": "ecc4e8b7",
   "metadata": {},
   "outputs": [
    {
     "data": {
      "text/html": [
       "<table class=\"dataframe\">\n",
       "<caption>A data.frame: 6 × 5</caption>\n",
       "<thead>\n",
       "\t<tr><th></th><th scope=col>discrimination_deviations</th><th scope=col>nr_persons</th><th scope=col>nr_items</th><th scope=col>nr_dimensions</th><th scope=col>model_type</th></tr>\n",
       "\t<tr><th></th><th scope=col>&lt;dbl&gt;</th><th scope=col>&lt;dbl&gt;</th><th scope=col>&lt;dbl&gt;</th><th scope=col>&lt;dbl&gt;</th><th scope=col>&lt;chr&gt;</th></tr>\n",
       "</thead>\n",
       "<tbody>\n",
       "\t<tr><th scope=row>1</th><td>-0.1331983</td><td>200</td><td>40</td><td>1</td><td>2PL</td></tr>\n",
       "\t<tr><th scope=row>2</th><td>-0.1049165</td><td>200</td><td>40</td><td>1</td><td>2PL</td></tr>\n",
       "\t<tr><th scope=row>3</th><td>-0.8876888</td><td>200</td><td>40</td><td>1</td><td>2PL</td></tr>\n",
       "\t<tr><th scope=row>4</th><td>-1.1285312</td><td>200</td><td>40</td><td>1</td><td>2PL</td></tr>\n",
       "\t<tr><th scope=row>5</th><td> 0.1062763</td><td>200</td><td>40</td><td>1</td><td>2PL</td></tr>\n",
       "\t<tr><th scope=row>6</th><td>-0.4416468</td><td>200</td><td>40</td><td>1</td><td>2PL</td></tr>\n",
       "</tbody>\n",
       "</table>\n"
      ],
      "text/latex": [
       "A data.frame: 6 × 5\n",
       "\\begin{tabular}{r|lllll}\n",
       "  & discrimination\\_deviations & nr\\_persons & nr\\_items & nr\\_dimensions & model\\_type\\\\\n",
       "  & <dbl> & <dbl> & <dbl> & <dbl> & <chr>\\\\\n",
       "\\hline\n",
       "\t1 & -0.1331983 & 200 & 40 & 1 & 2PL\\\\\n",
       "\t2 & -0.1049165 & 200 & 40 & 1 & 2PL\\\\\n",
       "\t3 & -0.8876888 & 200 & 40 & 1 & 2PL\\\\\n",
       "\t4 & -1.1285312 & 200 & 40 & 1 & 2PL\\\\\n",
       "\t5 &  0.1062763 & 200 & 40 & 1 & 2PL\\\\\n",
       "\t6 & -0.4416468 & 200 & 40 & 1 & 2PL\\\\\n",
       "\\end{tabular}\n"
      ],
      "text/markdown": [
       "\n",
       "A data.frame: 6 × 5\n",
       "\n",
       "| <!--/--> | discrimination_deviations &lt;dbl&gt; | nr_persons &lt;dbl&gt; | nr_items &lt;dbl&gt; | nr_dimensions &lt;dbl&gt; | model_type &lt;chr&gt; |\n",
       "|---|---|---|---|---|---|\n",
       "| 1 | -0.1331983 | 200 | 40 | 1 | 2PL |\n",
       "| 2 | -0.1049165 | 200 | 40 | 1 | 2PL |\n",
       "| 3 | -0.8876888 | 200 | 40 | 1 | 2PL |\n",
       "| 4 | -1.1285312 | 200 | 40 | 1 | 2PL |\n",
       "| 5 |  0.1062763 | 200 | 40 | 1 | 2PL |\n",
       "| 6 | -0.4416468 | 200 | 40 | 1 | 2PL |\n",
       "\n"
      ],
      "text/plain": [
       "  discrimination_deviations nr_persons nr_items nr_dimensions model_type\n",
       "1 -0.1331983                200        40       1             2PL       \n",
       "2 -0.1049165                200        40       1             2PL       \n",
       "3 -0.8876888                200        40       1             2PL       \n",
       "4 -1.1285312                200        40       1             2PL       \n",
       "5  0.1062763                200        40       1             2PL       \n",
       "6 -0.4416468                200        40       1             2PL       "
      ]
     },
     "metadata": {},
     "output_type": "display_data"
    }
   ],
   "source": [
    "head(alpha_results)"
   ]
  },
  {
   "cell_type": "code",
   "execution_count": 9,
   "id": "2d506947",
   "metadata": {},
   "outputs": [
    {
     "data": {
      "text/plain": [
       " discrimination_deviations   nr_persons     nr_items  nr_dimensions \n",
       " Min.   :-5.08906          Min.   :200   Min.   :40   Min.   :1.00  \n",
       " 1st Qu.:-0.27584          1st Qu.:200   1st Qu.:40   1st Qu.:2.50  \n",
       " Median :-0.04448          Median :250   Median :40   Median :3.50  \n",
       " Mean   :-0.06724          Mean   :250   Mean   :40   Mean   :3.25  \n",
       " 3rd Qu.: 0.15731          3rd Qu.:300   3rd Qu.:40   3rd Qu.:4.25  \n",
       " Max.   : 5.96794          Max.   :300   Max.   :40   Max.   :5.00  \n",
       "  model_type       \n",
       " Length:32000      \n",
       " Class :character  \n",
       " Mode  :character  \n",
       "                   \n",
       "                   \n",
       "                   "
      ]
     },
     "metadata": {},
     "output_type": "display_data"
    }
   ],
   "source": [
    "summary(alpha_results)"
   ]
  },
  {
   "cell_type": "code",
   "execution_count": 10,
   "id": "c97458ac",
   "metadata": {},
   "outputs": [
    {
     "data": {
      "text/html": [
       "<style>\n",
       ".list-inline {list-style: none; margin:0; padding: 0}\n",
       ".list-inline>li {display: inline-block}\n",
       ".list-inline>li:not(:last-child)::after {content: \"\\00b7\"; padding: 0 .5ex}\n",
       "</style>\n",
       "<ol class=list-inline><li>32000</li><li>5</li></ol>\n"
      ],
      "text/latex": [
       "\\begin{enumerate*}\n",
       "\\item 32000\n",
       "\\item 5\n",
       "\\end{enumerate*}\n"
      ],
      "text/markdown": [
       "1. 32000\n",
       "2. 5\n",
       "\n",
       "\n"
      ],
      "text/plain": [
       "[1] 32000     5"
      ]
     },
     "metadata": {},
     "output_type": "display_data"
    }
   ],
   "source": [
    "dim(alpha_results)"
   ]
  },
  {
   "cell_type": "code",
   "execution_count": 11,
   "id": "dc8a85c7",
   "metadata": {},
   "outputs": [
    {
     "data": {
      "text/html": [
       "<table class=\"dataframe\">\n",
       "<caption>A data.frame: 6 × 5</caption>\n",
       "<thead>\n",
       "\t<tr><th></th><th scope=col>difficulty_deviations</th><th scope=col>nr_persons</th><th scope=col>nr_items</th><th scope=col>nr_dimensions</th><th scope=col>model_type</th></tr>\n",
       "\t<tr><th></th><th scope=col>&lt;dbl&gt;</th><th scope=col>&lt;dbl&gt;</th><th scope=col>&lt;dbl&gt;</th><th scope=col>&lt;dbl&gt;</th><th scope=col>&lt;chr&gt;</th></tr>\n",
       "</thead>\n",
       "<tbody>\n",
       "\t<tr><th scope=row>1</th><td>-0.32461050</td><td>200</td><td>40</td><td>1</td><td>2PL</td></tr>\n",
       "\t<tr><th scope=row>2</th><td> 0.02552953</td><td>200</td><td>40</td><td>1</td><td>2PL</td></tr>\n",
       "\t<tr><th scope=row>3</th><td>-0.28619402</td><td>200</td><td>40</td><td>1</td><td>2PL</td></tr>\n",
       "\t<tr><th scope=row>4</th><td> 0.16335440</td><td>200</td><td>40</td><td>1</td><td>2PL</td></tr>\n",
       "\t<tr><th scope=row>5</th><td>-0.12305305</td><td>200</td><td>40</td><td>1</td><td>2PL</td></tr>\n",
       "\t<tr><th scope=row>6</th><td>-0.08130934</td><td>200</td><td>40</td><td>1</td><td>2PL</td></tr>\n",
       "</tbody>\n",
       "</table>\n"
      ],
      "text/latex": [
       "A data.frame: 6 × 5\n",
       "\\begin{tabular}{r|lllll}\n",
       "  & difficulty\\_deviations & nr\\_persons & nr\\_items & nr\\_dimensions & model\\_type\\\\\n",
       "  & <dbl> & <dbl> & <dbl> & <dbl> & <chr>\\\\\n",
       "\\hline\n",
       "\t1 & -0.32461050 & 200 & 40 & 1 & 2PL\\\\\n",
       "\t2 &  0.02552953 & 200 & 40 & 1 & 2PL\\\\\n",
       "\t3 & -0.28619402 & 200 & 40 & 1 & 2PL\\\\\n",
       "\t4 &  0.16335440 & 200 & 40 & 1 & 2PL\\\\\n",
       "\t5 & -0.12305305 & 200 & 40 & 1 & 2PL\\\\\n",
       "\t6 & -0.08130934 & 200 & 40 & 1 & 2PL\\\\\n",
       "\\end{tabular}\n"
      ],
      "text/markdown": [
       "\n",
       "A data.frame: 6 × 5\n",
       "\n",
       "| <!--/--> | difficulty_deviations &lt;dbl&gt; | nr_persons &lt;dbl&gt; | nr_items &lt;dbl&gt; | nr_dimensions &lt;dbl&gt; | model_type &lt;chr&gt; |\n",
       "|---|---|---|---|---|---|\n",
       "| 1 | -0.32461050 | 200 | 40 | 1 | 2PL |\n",
       "| 2 |  0.02552953 | 200 | 40 | 1 | 2PL |\n",
       "| 3 | -0.28619402 | 200 | 40 | 1 | 2PL |\n",
       "| 4 |  0.16335440 | 200 | 40 | 1 | 2PL |\n",
       "| 5 | -0.12305305 | 200 | 40 | 1 | 2PL |\n",
       "| 6 | -0.08130934 | 200 | 40 | 1 | 2PL |\n",
       "\n"
      ],
      "text/plain": [
       "  difficulty_deviations nr_persons nr_items nr_dimensions model_type\n",
       "1 -0.32461050           200        40       1             2PL       \n",
       "2  0.02552953           200        40       1             2PL       \n",
       "3 -0.28619402           200        40       1             2PL       \n",
       "4  0.16335440           200        40       1             2PL       \n",
       "5 -0.12305305           200        40       1             2PL       \n",
       "6 -0.08130934           200        40       1             2PL       "
      ]
     },
     "metadata": {},
     "output_type": "display_data"
    }
   ],
   "source": [
    "head(beta_results)"
   ]
  },
  {
   "cell_type": "code",
   "execution_count": 12,
   "id": "bfeef075",
   "metadata": {},
   "outputs": [
    {
     "data": {
      "text/html": [
       "<style>\n",
       ".list-inline {list-style: none; margin:0; padding: 0}\n",
       ".list-inline>li {display: inline-block}\n",
       ".list-inline>li:not(:last-child)::after {content: \"\\00b7\"; padding: 0 .5ex}\n",
       "</style>\n",
       "<ol class=list-inline><li>32000</li><li>5</li></ol>\n"
      ],
      "text/latex": [
       "\\begin{enumerate*}\n",
       "\\item 32000\n",
       "\\item 5\n",
       "\\end{enumerate*}\n"
      ],
      "text/markdown": [
       "1. 32000\n",
       "2. 5\n",
       "\n",
       "\n"
      ],
      "text/plain": [
       "[1] 32000     5"
      ]
     },
     "metadata": {},
     "output_type": "display_data"
    }
   ],
   "source": [
    "dim(beta_results)"
   ]
  },
  {
   "cell_type": "code",
   "execution_count": 13,
   "id": "1ab4f12a",
   "metadata": {},
   "outputs": [
    {
     "data": {
      "text/html": [
       "<table class=\"dataframe\">\n",
       "<caption>A data.frame: 6 × 5</caption>\n",
       "<thead>\n",
       "\t<tr><th></th><th scope=col>theta_deviations</th><th scope=col>nr_persons</th><th scope=col>nr_items</th><th scope=col>nr_dimensions</th><th scope=col>model_type</th></tr>\n",
       "\t<tr><th></th><th scope=col>&lt;dbl&gt;</th><th scope=col>&lt;dbl&gt;</th><th scope=col>&lt;dbl&gt;</th><th scope=col>&lt;dbl&gt;</th><th scope=col>&lt;chr&gt;</th></tr>\n",
       "</thead>\n",
       "<tbody>\n",
       "\t<tr><th scope=row>1</th><td> 0.05039965</td><td>200</td><td>40</td><td>1</td><td>2PL</td></tr>\n",
       "\t<tr><th scope=row>2</th><td> 0.08075449</td><td>200</td><td>40</td><td>1</td><td>2PL</td></tr>\n",
       "\t<tr><th scope=row>3</th><td> 0.22118972</td><td>200</td><td>40</td><td>1</td><td>2PL</td></tr>\n",
       "\t<tr><th scope=row>4</th><td> 0.03601423</td><td>200</td><td>40</td><td>1</td><td>2PL</td></tr>\n",
       "\t<tr><th scope=row>5</th><td> 0.11266306</td><td>200</td><td>40</td><td>1</td><td>2PL</td></tr>\n",
       "\t<tr><th scope=row>6</th><td>-0.48067561</td><td>200</td><td>40</td><td>1</td><td>2PL</td></tr>\n",
       "</tbody>\n",
       "</table>\n"
      ],
      "text/latex": [
       "A data.frame: 6 × 5\n",
       "\\begin{tabular}{r|lllll}\n",
       "  & theta\\_deviations & nr\\_persons & nr\\_items & nr\\_dimensions & model\\_type\\\\\n",
       "  & <dbl> & <dbl> & <dbl> & <dbl> & <chr>\\\\\n",
       "\\hline\n",
       "\t1 &  0.05039965 & 200 & 40 & 1 & 2PL\\\\\n",
       "\t2 &  0.08075449 & 200 & 40 & 1 & 2PL\\\\\n",
       "\t3 &  0.22118972 & 200 & 40 & 1 & 2PL\\\\\n",
       "\t4 &  0.03601423 & 200 & 40 & 1 & 2PL\\\\\n",
       "\t5 &  0.11266306 & 200 & 40 & 1 & 2PL\\\\\n",
       "\t6 & -0.48067561 & 200 & 40 & 1 & 2PL\\\\\n",
       "\\end{tabular}\n"
      ],
      "text/markdown": [
       "\n",
       "A data.frame: 6 × 5\n",
       "\n",
       "| <!--/--> | theta_deviations &lt;dbl&gt; | nr_persons &lt;dbl&gt; | nr_items &lt;dbl&gt; | nr_dimensions &lt;dbl&gt; | model_type &lt;chr&gt; |\n",
       "|---|---|---|---|---|---|\n",
       "| 1 |  0.05039965 | 200 | 40 | 1 | 2PL |\n",
       "| 2 |  0.08075449 | 200 | 40 | 1 | 2PL |\n",
       "| 3 |  0.22118972 | 200 | 40 | 1 | 2PL |\n",
       "| 4 |  0.03601423 | 200 | 40 | 1 | 2PL |\n",
       "| 5 |  0.11266306 | 200 | 40 | 1 | 2PL |\n",
       "| 6 | -0.48067561 | 200 | 40 | 1 | 2PL |\n",
       "\n"
      ],
      "text/plain": [
       "  theta_deviations nr_persons nr_items nr_dimensions model_type\n",
       "1  0.05039965      200        40       1             2PL       \n",
       "2  0.08075449      200        40       1             2PL       \n",
       "3  0.22118972      200        40       1             2PL       \n",
       "4  0.03601423      200        40       1             2PL       \n",
       "5  0.11266306      200        40       1             2PL       \n",
       "6 -0.48067561      200        40       1             2PL       "
      ]
     },
     "metadata": {},
     "output_type": "display_data"
    }
   ],
   "source": [
    "head(theta_results)"
   ]
  },
  {
   "cell_type": "code",
   "execution_count": 14,
   "id": "4f1e9956",
   "metadata": {},
   "outputs": [
    {
     "data": {
      "text/html": [
       "<style>\n",
       ".list-inline {list-style: none; margin:0; padding: 0}\n",
       ".list-inline>li {display: inline-block}\n",
       ".list-inline>li:not(:last-child)::after {content: \"\\00b7\"; padding: 0 .5ex}\n",
       "</style>\n",
       "<ol class=list-inline><li>200000</li><li>5</li></ol>\n"
      ],
      "text/latex": [
       "\\begin{enumerate*}\n",
       "\\item 200000\n",
       "\\item 5\n",
       "\\end{enumerate*}\n"
      ],
      "text/markdown": [
       "1. 200000\n",
       "2. 5\n",
       "\n",
       "\n"
      ],
      "text/plain": [
       "[1] 200000      5"
      ]
     },
     "metadata": {},
     "output_type": "display_data"
    }
   ],
   "source": [
    "dim(theta_results)"
   ]
  },
  {
   "cell_type": "markdown",
   "id": "d9a87c2b",
   "metadata": {},
   "source": [
    "[**back to contents**](#contents)"
   ]
  },
  {
   "cell_type": "markdown",
   "id": "15cbae39",
   "metadata": {},
   "source": [
    "<a id='alpha_dev'></a>\n",
    "## Alpha deviations"
   ]
  },
  {
   "cell_type": "markdown",
   "id": "879b9d9c",
   "metadata": {},
   "source": [
    "<a id='alpha_dev_descriptive'></a>\n",
    "### Descriptive analyses"
   ]
  },
  {
   "cell_type": "code",
   "execution_count": 26,
   "id": "64bd3f17",
   "metadata": {},
   "outputs": [
    {
     "name": "stderr",
     "output_type": "stream",
     "text": [
      "\u001b[1m\u001b[22m`summarise()` has grouped output by 'nr_persons'. You can override using the `.groups` argument.\n"
     ]
    },
    {
     "data": {
      "text/html": [
       "<table class=\"dataframe\">\n",
       "<caption>A grouped_df: 2 × 5</caption>\n",
       "<thead>\n",
       "\t<tr><th scope=col>nr_persons</th><th scope=col>nr_items</th><th scope=col>alpha_deviations</th><th scope=col>alpha_deviations_se</th><th scope=col>aplha_deviations_sd</th></tr>\n",
       "\t<tr><th scope=col>&lt;dbl&gt;</th><th scope=col>&lt;dbl&gt;</th><th scope=col>&lt;dbl&gt;</th><th scope=col>&lt;dbl&gt;</th><th scope=col>&lt;dbl&gt;</th></tr>\n",
       "</thead>\n",
       "<tbody>\n",
       "\t<tr><td>200</td><td>40</td><td>-0.07313025</td><td>0.004124274</td><td>0.5216840</td></tr>\n",
       "\t<tr><td>300</td><td>40</td><td>-0.06134799</td><td>0.003456434</td><td>0.4372082</td></tr>\n",
       "</tbody>\n",
       "</table>\n"
      ],
      "text/latex": [
       "A grouped\\_df: 2 × 5\n",
       "\\begin{tabular}{lllll}\n",
       " nr\\_persons & nr\\_items & alpha\\_deviations & alpha\\_deviations\\_se & aplha\\_deviations\\_sd\\\\\n",
       " <dbl> & <dbl> & <dbl> & <dbl> & <dbl>\\\\\n",
       "\\hline\n",
       "\t 200 & 40 & -0.07313025 & 0.004124274 & 0.5216840\\\\\n",
       "\t 300 & 40 & -0.06134799 & 0.003456434 & 0.4372082\\\\\n",
       "\\end{tabular}\n"
      ],
      "text/markdown": [
       "\n",
       "A grouped_df: 2 × 5\n",
       "\n",
       "| nr_persons &lt;dbl&gt; | nr_items &lt;dbl&gt; | alpha_deviations &lt;dbl&gt; | alpha_deviations_se &lt;dbl&gt; | aplha_deviations_sd &lt;dbl&gt; |\n",
       "|---|---|---|---|---|\n",
       "| 200 | 40 | -0.07313025 | 0.004124274 | 0.5216840 |\n",
       "| 300 | 40 | -0.06134799 | 0.003456434 | 0.4372082 |\n",
       "\n"
      ],
      "text/plain": [
       "  nr_persons nr_items alpha_deviations alpha_deviations_se aplha_deviations_sd\n",
       "1 200        40       -0.07313025      0.004124274         0.5216840          \n",
       "2 300        40       -0.06134799      0.003456434         0.4372082          "
      ]
     },
     "metadata": {},
     "output_type": "display_data"
    }
   ],
   "source": [
    "alpha_results %>%\n",
    "  group_by(nr_persons, nr_items) %>%\n",
    "  summarise(\n",
    "    alpha_deviations = mean(discrimination_deviations),\n",
    "    alpha_deviations_se = se(discrimination_deviations),\n",
    "    aplha_deviations_sd = sd(discrimination_deviations)\n",
    "  )"
   ]
  },
  {
   "cell_type": "code",
   "execution_count": 16,
   "id": "5197d958",
   "metadata": {},
   "outputs": [
    {
     "name": "stderr",
     "output_type": "stream",
     "text": [
      "\u001b[1m\u001b[22m`summarise()` has grouped output by 'nr_persons', 'nr_items'. You can override using the `.groups` argument.\n"
     ]
    },
    {
     "data": {
      "text/html": [
       "<table class=\"dataframe\">\n",
       "<caption>A grouped_df: 8 × 5</caption>\n",
       "<thead>\n",
       "\t<tr><th scope=col>nr_persons</th><th scope=col>nr_items</th><th scope=col>nr_dimensions</th><th scope=col>alpha_deviations</th><th scope=col>alpha_deviations_se</th></tr>\n",
       "\t<tr><th scope=col>&lt;dbl&gt;</th><th scope=col>&lt;dbl&gt;</th><th scope=col>&lt;dbl&gt;</th><th scope=col>&lt;dbl&gt;</th><th scope=col>&lt;dbl&gt;</th></tr>\n",
       "</thead>\n",
       "<tbody>\n",
       "\t<tr><td>200</td><td>40</td><td>1</td><td>-0.08191</td><td>0.00667</td></tr>\n",
       "\t<tr><td>200</td><td>40</td><td>3</td><td>-0.06805</td><td>0.00824</td></tr>\n",
       "\t<tr><td>200</td><td>40</td><td>4</td><td>-0.06945</td><td>0.00889</td></tr>\n",
       "\t<tr><td>200</td><td>40</td><td>5</td><td>-0.07310</td><td>0.00899</td></tr>\n",
       "\t<tr><td>300</td><td>40</td><td>1</td><td>-0.08057</td><td>0.00569</td></tr>\n",
       "\t<tr><td>300</td><td>40</td><td>3</td><td>-0.03260</td><td>0.00728</td></tr>\n",
       "\t<tr><td>300</td><td>40</td><td>4</td><td>-0.07464</td><td>0.00711</td></tr>\n",
       "\t<tr><td>300</td><td>40</td><td>5</td><td>-0.05759</td><td>0.00741</td></tr>\n",
       "</tbody>\n",
       "</table>\n"
      ],
      "text/latex": [
       "A grouped\\_df: 8 × 5\n",
       "\\begin{tabular}{lllll}\n",
       " nr\\_persons & nr\\_items & nr\\_dimensions & alpha\\_deviations & alpha\\_deviations\\_se\\\\\n",
       " <dbl> & <dbl> & <dbl> & <dbl> & <dbl>\\\\\n",
       "\\hline\n",
       "\t 200 & 40 & 1 & -0.08191 & 0.00667\\\\\n",
       "\t 200 & 40 & 3 & -0.06805 & 0.00824\\\\\n",
       "\t 200 & 40 & 4 & -0.06945 & 0.00889\\\\\n",
       "\t 200 & 40 & 5 & -0.07310 & 0.00899\\\\\n",
       "\t 300 & 40 & 1 & -0.08057 & 0.00569\\\\\n",
       "\t 300 & 40 & 3 & -0.03260 & 0.00728\\\\\n",
       "\t 300 & 40 & 4 & -0.07464 & 0.00711\\\\\n",
       "\t 300 & 40 & 5 & -0.05759 & 0.00741\\\\\n",
       "\\end{tabular}\n"
      ],
      "text/markdown": [
       "\n",
       "A grouped_df: 8 × 5\n",
       "\n",
       "| nr_persons &lt;dbl&gt; | nr_items &lt;dbl&gt; | nr_dimensions &lt;dbl&gt; | alpha_deviations &lt;dbl&gt; | alpha_deviations_se &lt;dbl&gt; |\n",
       "|---|---|---|---|---|\n",
       "| 200 | 40 | 1 | -0.08191 | 0.00667 |\n",
       "| 200 | 40 | 3 | -0.06805 | 0.00824 |\n",
       "| 200 | 40 | 4 | -0.06945 | 0.00889 |\n",
       "| 200 | 40 | 5 | -0.07310 | 0.00899 |\n",
       "| 300 | 40 | 1 | -0.08057 | 0.00569 |\n",
       "| 300 | 40 | 3 | -0.03260 | 0.00728 |\n",
       "| 300 | 40 | 4 | -0.07464 | 0.00711 |\n",
       "| 300 | 40 | 5 | -0.05759 | 0.00741 |\n",
       "\n"
      ],
      "text/plain": [
       "  nr_persons nr_items nr_dimensions alpha_deviations alpha_deviations_se\n",
       "1 200        40       1             -0.08191         0.00667            \n",
       "2 200        40       3             -0.06805         0.00824            \n",
       "3 200        40       4             -0.06945         0.00889            \n",
       "4 200        40       5             -0.07310         0.00899            \n",
       "5 300        40       1             -0.08057         0.00569            \n",
       "6 300        40       3             -0.03260         0.00728            \n",
       "7 300        40       4             -0.07464         0.00711            \n",
       "8 300        40       5             -0.05759         0.00741            "
      ]
     },
     "metadata": {},
     "output_type": "display_data"
    }
   ],
   "source": [
    "alpha_results %>%\n",
    "  group_by(nr_persons, nr_items, nr_dimensions) %>%\n",
    "  summarise(\n",
    "    alpha_deviations = mean(discrimination_deviations),\n",
    "    alpha_deviations_se = se(discrimination_deviations)\n",
    "  ) %>% \n",
    "  round(5)"
   ]
  },
  {
   "cell_type": "code",
   "execution_count": 38,
   "id": "9b029796",
   "metadata": {},
   "outputs": [
    {
     "data": {
      "image/png": "[encoded data removed]",
      "text/plain": [
       "plot without title"
      ]
     },
     "metadata": {
      "image/png": {
       "height": 420,
       "width": 420
      }
     },
     "output_type": "display_data"
    }
   ],
   "source": [
    "alpha_results %>%\n",
    "    ggplot(aes(x=discrimination_deviations)) + \n",
    "        geom_vline(xintercept=0, linetype=\"dashed\", size=1.2) +\n",
    "        geom_histogram(bins=100, alpha=.6) "
   ]
  },
  {
   "cell_type": "markdown",
   "id": "83fbe971",
   "metadata": {},
   "source": [
    "There is no highly visible skew; the errors seem to be more or less normally distributed around the true value"
   ]
  },
  {
   "cell_type": "code",
   "execution_count": 42,
   "id": "3700ddb3",
   "metadata": {},
   "outputs": [
    {
     "data": {
      "text/html": [
       "-0.0947022484141129"
      ],
      "text/latex": [
       "-0.0947022484141129"
      ],
      "text/markdown": [
       "-0.0947022484141129"
      ],
      "text/plain": [
       "[1] -0.09470225"
      ]
     },
     "metadata": {},
     "output_type": "display_data"
    },
    {
     "data": {
      "text/html": [
       "13.4058304864239"
      ],
      "text/latex": [
       "13.4058304864239"
      ],
      "text/markdown": [
       "13.4058304864239"
      ],
      "text/plain": [
       "[1] 13.40583"
      ]
     },
     "metadata": {},
     "output_type": "display_data"
    }
   ],
   "source": [
    "skewness(alpha_results$discrimination_deviations)\n",
    "kurtosis(alpha_results$discrimination_deviations)"
   ]
  },
  {
   "cell_type": "markdown",
   "id": "9c168164",
   "metadata": {},
   "source": [
    "Small skew to the left; more values in the tails than under normal assumption."
   ]
  },
  {
   "cell_type": "code",
   "execution_count": 47,
   "id": "d1a396d7",
   "metadata": {},
   "outputs": [
    {
     "data": {
      "image/png": "[encoded data removed]",
      "text/plain": [
       "plot without title"
      ]
     },
     "metadata": {
      "image/png": {
       "height": 420,
       "width": 420
      }
     },
     "output_type": "display_data"
    }
   ],
   "source": [
    "# Distribution\n",
    "alpha_results %>%\n",
    "    ggplot(aes(x=discrimination_deviations, col=as.factor(nr_dimensions))) + \n",
    "        geom_vline(xintercept=0, linetype=\"dashed\", size=1.2) +\n",
    "        stat_ecdf(size=1.2) +\n",
    "        coord_cartesian(xlim=c(-1.5, 1.5))"
   ]
  },
  {
   "cell_type": "markdown",
   "id": "69c282db",
   "metadata": {},
   "source": [
    "It looks like that more dimensions lead to more values that are a little further off from the actual value."
   ]
  },
  {
   "cell_type": "code",
   "execution_count": 176,
   "id": "b758c690",
   "metadata": {},
   "outputs": [
    {
     "data": {
      "image/png": "[encoded data removed]",
      "text/plain": [
       "plot without title"
      ]
     },
     "metadata": {
      "image/png": {
       "height": 420,
       "width": 420
      }
     },
     "output_type": "display_data"
    }
   ],
   "source": [
    "# Mean and SE\n",
    "alpha_results %>%\n",
    "  ggplot(aes(x=as.factor(nr_items), y=discrimination_deviations, fill=as.factor(nr_dimensions))) +\n",
    "    geom_violin(alpha=.3) +\n",
    "    geom_boxplot(alpha=.5, position = position_dodge(.9)) +\n",
    "    facet_wrap(~as.factor(nr_persons))"
   ]
  },
  {
   "cell_type": "code",
   "execution_count": 17,
   "id": "fa9fe61c",
   "metadata": {},
   "outputs": [
    {
     "name": "stderr",
     "output_type": "stream",
     "text": [
      "\u001b[1m\u001b[22m`summarise()` has grouped output by 'nr_persons', 'nr_items'. You can override using the `.groups` argument.\n"
     ]
    },
    {
     "data": {
      "image/png": "[encoded data removed]",
      "text/plain": [
       "plot without title"
      ]
     },
     "metadata": {
      "image/png": {
       "height": 420,
       "width": 420
      }
     },
     "output_type": "display_data"
    }
   ],
   "source": [
    "# Mean and SE\n",
    "alpha_results %>%\n",
    "  group_by(nr_persons, nr_items, nr_dimensions) %>%\n",
    "  summarise(\n",
    "    alpha_deviations = mean(discrimination_deviations),\n",
    "    alpha_deviations_se = se(discrimination_deviations)\n",
    "  ) %>% \n",
    "  ggplot(aes(x=as.factor(nr_items), y=alpha_deviations, fill=as.factor(nr_dimensions))) +\n",
    "    geom_bar(stat=\"identity\", position = position_dodge()) +\n",
    "    facet_wrap(~as.factor(nr_persons), scales=\"free\") +\n",
    "    geom_errorbar(\n",
    "        aes(\n",
    "            x=as.factor(nr_items), \n",
    "            ymin=alpha_deviations - 1.96 * alpha_deviations_se, \n",
    "            ymax=alpha_deviations + 1.96 * alpha_deviations_se\n",
    "        ), \n",
    "        width=.3,\n",
    "        position=position_dodge(.9)\n",
    "    ) +\n",
    "    geom_hline(yintercept=0, linetype=\"dashed\", size=1.2) +\n",
    "    coord_cartesian(ylim=c(-.2, .2))"
   ]
  },
  {
   "cell_type": "markdown",
   "id": "528b480e",
   "metadata": {},
   "source": [
    "[**back to contents**](#contents)"
   ]
  },
  {
   "cell_type": "markdown",
   "id": "ca6be380",
   "metadata": {},
   "source": [
    "<a id='alpha_dev_stats'></a>\n",
    "### Statistical analyses"
   ]
  },
  {
   "cell_type": "markdown",
   "id": "24e3cd78",
   "metadata": {},
   "source": [
    "**Do 200 vs. 300 people make a difference?**"
   ]
  },
  {
   "cell_type": "code",
   "execution_count": 18,
   "id": "2b3b7ef3",
   "metadata": {},
   "outputs": [
    {
     "data": {
      "text/plain": [
       "\n",
       "\tWelch Two Sample t-test\n",
       "\n",
       "data:  alpha_results %>% filter(nr_persons == 200) %>% select(discrimination_deviations) and alpha_results %>% filter(nr_persons == 300) %>% select(discrimination_deviations)\n",
       "t = -2.1896, df = 31049, p-value = 0.02856\n",
       "alternative hypothesis: true difference in means is not equal to 0\n",
       "95 percent confidence interval:\n",
       " -0.022329499 -0.001235029\n",
       "sample estimates:\n",
       "  mean of x   mean of y \n",
       "-0.07313025 -0.06134799 \n"
      ]
     },
     "metadata": {},
     "output_type": "display_data"
    }
   ],
   "source": [
    "# Does it make a difference whether we use 200 or 300 people?\n",
    "t.test(\n",
    "    alpha_results %>% filter(nr_persons == 200) %>% select(discrimination_deviations),\n",
    "    alpha_results %>% filter(nr_persons == 300) %>% select(discrimination_deviations),\n",
    ")"
   ]
  },
  {
   "cell_type": "code",
   "execution_count": 24,
   "id": "2785c0d3",
   "metadata": {},
   "outputs": [
    {
     "data": {
      "text/plain": [
       "\n",
       "\tF test to compare two variances\n",
       "\n",
       "data:  alpha_results %>% filter(nr_persons == 200) %>% pull(discrimination_deviations) and alpha_results %>% filter(nr_persons == 300) %>% pull(discrimination_deviations)\n",
       "F = 1.4238, num df = 15999, denom df = 15999, p-value < 2.2e-16\n",
       "alternative hypothesis: true ratio of variances is not equal to 1\n",
       "95 percent confidence interval:\n",
       " 1.380317 1.468581\n",
       "sample estimates:\n",
       "ratio of variances \n",
       "          1.423765 \n"
      ]
     },
     "metadata": {},
     "output_type": "display_data"
    }
   ],
   "source": [
    "var.test(\n",
    "    alpha_results %>% filter(nr_persons == 200) %>% pull(discrimination_deviations),\n",
    "    alpha_results %>% filter(nr_persons == 300) %>% pull(discrimination_deviations)\n",
    ")"
   ]
  },
  {
   "cell_type": "markdown",
   "id": "8c59ac61",
   "metadata": {},
   "source": [
    "We see that \n",
    "* the estimations are a little less biased (statistically significant, but not a huge effect) for 300 people\n",
    "* the estimations are more closely centered for 300 people, i.e. they have less variance around the true value"
   ]
  },
  {
   "cell_type": "code",
   "execution_count": 50,
   "id": "7f2a0094",
   "metadata": {},
   "outputs": [
    {
     "data": {
      "text/html": [
       "<table class=\"dataframe\">\n",
       "<caption>A data.frame: 6 × 5</caption>\n",
       "<thead>\n",
       "\t<tr><th></th><th scope=col>discrimination_deviations</th><th scope=col>nr_persons</th><th scope=col>nr_items</th><th scope=col>nr_dimensions</th><th scope=col>model_type</th></tr>\n",
       "\t<tr><th></th><th scope=col>&lt;dbl&gt;</th><th scope=col>&lt;dbl&gt;</th><th scope=col>&lt;dbl&gt;</th><th scope=col>&lt;dbl&gt;</th><th scope=col>&lt;chr&gt;</th></tr>\n",
       "</thead>\n",
       "<tbody>\n",
       "\t<tr><th scope=row>1</th><td>-0.1331983</td><td>200</td><td>40</td><td>1</td><td>2PL</td></tr>\n",
       "\t<tr><th scope=row>2</th><td>-0.1049165</td><td>200</td><td>40</td><td>1</td><td>2PL</td></tr>\n",
       "\t<tr><th scope=row>3</th><td>-0.8876888</td><td>200</td><td>40</td><td>1</td><td>2PL</td></tr>\n",
       "\t<tr><th scope=row>4</th><td>-1.1285312</td><td>200</td><td>40</td><td>1</td><td>2PL</td></tr>\n",
       "\t<tr><th scope=row>5</th><td> 0.1062763</td><td>200</td><td>40</td><td>1</td><td>2PL</td></tr>\n",
       "\t<tr><th scope=row>6</th><td>-0.4416468</td><td>200</td><td>40</td><td>1</td><td>2PL</td></tr>\n",
       "</tbody>\n",
       "</table>\n"
      ],
      "text/latex": [
       "A data.frame: 6 × 5\n",
       "\\begin{tabular}{r|lllll}\n",
       "  & discrimination\\_deviations & nr\\_persons & nr\\_items & nr\\_dimensions & model\\_type\\\\\n",
       "  & <dbl> & <dbl> & <dbl> & <dbl> & <chr>\\\\\n",
       "\\hline\n",
       "\t1 & -0.1331983 & 200 & 40 & 1 & 2PL\\\\\n",
       "\t2 & -0.1049165 & 200 & 40 & 1 & 2PL\\\\\n",
       "\t3 & -0.8876888 & 200 & 40 & 1 & 2PL\\\\\n",
       "\t4 & -1.1285312 & 200 & 40 & 1 & 2PL\\\\\n",
       "\t5 &  0.1062763 & 200 & 40 & 1 & 2PL\\\\\n",
       "\t6 & -0.4416468 & 200 & 40 & 1 & 2PL\\\\\n",
       "\\end{tabular}\n"
      ],
      "text/markdown": [
       "\n",
       "A data.frame: 6 × 5\n",
       "\n",
       "| <!--/--> | discrimination_deviations &lt;dbl&gt; | nr_persons &lt;dbl&gt; | nr_items &lt;dbl&gt; | nr_dimensions &lt;dbl&gt; | model_type &lt;chr&gt; |\n",
       "|---|---|---|---|---|---|\n",
       "| 1 | -0.1331983 | 200 | 40 | 1 | 2PL |\n",
       "| 2 | -0.1049165 | 200 | 40 | 1 | 2PL |\n",
       "| 3 | -0.8876888 | 200 | 40 | 1 | 2PL |\n",
       "| 4 | -1.1285312 | 200 | 40 | 1 | 2PL |\n",
       "| 5 |  0.1062763 | 200 | 40 | 1 | 2PL |\n",
       "| 6 | -0.4416468 | 200 | 40 | 1 | 2PL |\n",
       "\n"
      ],
      "text/plain": [
       "  discrimination_deviations nr_persons nr_items nr_dimensions model_type\n",
       "1 -0.1331983                200        40       1             2PL       \n",
       "2 -0.1049165                200        40       1             2PL       \n",
       "3 -0.8876888                200        40       1             2PL       \n",
       "4 -1.1285312                200        40       1             2PL       \n",
       "5  0.1062763                200        40       1             2PL       \n",
       "6 -0.4416468                200        40       1             2PL       "
      ]
     },
     "metadata": {},
     "output_type": "display_data"
    }
   ],
   "source": [
    "head(alpha_results)"
   ]
  },
  {
   "cell_type": "markdown",
   "id": "a3ecbd77",
   "metadata": {},
   "source": [
    "**Does the interaction of number of persons and number of dimensions make a difference?**"
   ]
  },
  {
   "cell_type": "code",
   "execution_count": 68,
   "id": "825055f7",
   "metadata": {},
   "outputs": [],
   "source": [
    "remove_outliers <- function(\n",
    "    data,\n",
    "    columns_to_exclude_outliers_for,\n",
    "    quant = .01\n",
    ") {\n",
    "    for (col in columns_to_exclude_outliers_for) {\n",
    "        lower_quantile <- quantile(data[,col], quant, na.rm=TRUE)\n",
    "        upper_quantile <- quantile(data[,col], 1-quant, na.rm=TRUE)\n",
    "        cols_to_keep <- (\n",
    "            (data[col] >= lower_quantile) &\n",
    "            (data[col] <= upper_quantile)\n",
    "        )\n",
    "        cols_to_keep[is.na(cols_to_keep)] = TRUE\n",
    "        data <- data[cols_to_keep,]\n",
    "    }\n",
    "    return(data)\n",
    "}"
   ]
  },
  {
   "cell_type": "code",
   "execution_count": 70,
   "id": "2e305618",
   "metadata": {},
   "outputs": [],
   "source": [
    "alpha_results_without_outliers <- remove_outliers(alpha_results, \"discrimination_deviations\", .01)"
   ]
  },
  {
   "cell_type": "code",
   "execution_count": 86,
   "id": "d0f656d0",
   "metadata": {},
   "outputs": [],
   "source": [
    "m0 <- lm(\n",
    "    discrimination_deviations ~\n",
    "    as.factor(nr_persons) * nr_dimensions, \n",
    "    alpha_results_without_outliers\n",
    ")"
   ]
  },
  {
   "cell_type": "code",
   "execution_count": 87,
   "id": "d2b4d08b",
   "metadata": {},
   "outputs": [
    {
     "data": {
      "image/png": "[encoded data removed]",
      "text/plain": [
       "Plot with title \"\""
      ]
     },
     "metadata": {
      "image/png": {
       "height": 420,
       "width": 420
      }
     },
     "output_type": "display_data"
    },
    {
     "data": {
      "image/png": "[encoded data removed]",
      "text/plain": [
       "Plot with title \"\""
      ]
     },
     "metadata": {
      "image/png": {
       "height": 420,
       "width": 420
      }
     },
     "output_type": "display_data"
    },
    {
     "data": {
      "image/png": "[encoded data removed]",
      "text/plain": [
       "Plot with title \"\""
      ]
     },
     "metadata": {
      "image/png": {
       "height": 420,
       "width": 420
      }
     },
     "output_type": "display_data"
    },
    {
     "data": {
      "image/png": "[encoded data removed]",
      "text/plain": [
       "Plot with title \"\""
      ]
     },
     "metadata": {
      "image/png": {
       "height": 420,
       "width": 420
      }
     },
     "output_type": "display_data"
    }
   ],
   "source": [
    "plot(m0)"
   ]
  },
  {
   "cell_type": "code",
   "execution_count": 88,
   "id": "a7e0e4e7",
   "metadata": {},
   "outputs": [
    {
     "data": {
      "text/plain": [
       "\n",
       "Call:\n",
       "lm(formula = discrimination_deviations ~ as.factor(nr_persons) * \n",
       "    nr_dimensions, data = alpha_results_without_outliers)\n",
       "\n",
       "Residuals:\n",
       "     Min       1Q   Median       3Q      Max \n",
       "-1.42995 -0.20280  0.02216  0.21825  1.31211 \n",
       "\n",
       "Coefficients:\n",
       "                                        Estimate Std. Error t value Pr(>|t|)\n",
       "(Intercept)                            -0.078501   0.007439 -10.552   <2e-16\n",
       "as.factor(nr_persons)300                0.006150   0.010507   0.585    0.558\n",
       "nr_dimensions                           0.001650   0.002089   0.790    0.430\n",
       "as.factor(nr_persons)300:nr_dimensions  0.001903   0.002948   0.645    0.519\n",
       "                                          \n",
       "(Intercept)                            ***\n",
       "as.factor(nr_persons)300                  \n",
       "nr_dimensions                             \n",
       "as.factor(nr_persons)300:nr_dimensions    \n",
       "---\n",
       "Signif. codes:  0 '***' 0.001 '**' 0.01 '*' 0.05 '.' 0.1 ' ' 1\n",
       "\n",
       "Residual standard error: 0.3867 on 31356 degrees of freedom\n",
       "Multiple R-squared:  0.000367,\tAdjusted R-squared:  0.0002714 \n",
       "F-statistic: 3.838 on 3 and 31356 DF,  p-value: 0.009259\n"
      ]
     },
     "metadata": {},
     "output_type": "display_data"
    }
   ],
   "source": [
    "summary(m0)"
   ]
  },
  {
   "cell_type": "markdown",
   "id": "e77eb1c0",
   "metadata": {},
   "source": [
    "We see the following:\n",
    "* Since the intercept is negative, a positive coefficient corresponds to an improvement in estimation accuracy\n",
    "* There are no significant improvements of the accuracy for more persons.\n",
    "\n",
    "However, the model should not be trusted blindly, it is not particularly good."
   ]
  },
  {
   "cell_type": "code",
   "execution_count": 99,
   "id": "70df8f62",
   "metadata": {},
   "outputs": [],
   "source": [
    "m1 <- mgcv::gam(\n",
    "    discrimination_deviations ~\n",
    "    s(nr_dimensions, by=nr_persons, k=4), \n",
    "    data=alpha_results_without_outliers\n",
    ")"
   ]
  },
  {
   "cell_type": "code",
   "execution_count": 100,
   "id": "42fe65ea",
   "metadata": {},
   "outputs": [
    {
     "name": "stdout",
     "output_type": "stream",
     "text": [
      "\n",
      "Method: GCV   Optimizer: magic\n",
      "Smoothing parameter selection converged after 7 iterations.\n",
      "The RMS GCV score gradient at convergence was 2.718916e-07 .\n",
      "The Hessian was positive definite.\n",
      "Model rank =  5 / 5 \n",
      "\n",
      "Basis dimension (k) checking results. Low p-value (k-index<1) may\n",
      "indicate that k is too low, especially if edf is close to k'.\n",
      "\n",
      "                              k'  edf k-index p-value\n",
      "s(nr_dimensions):nr_persons 4.00 3.87    0.99    0.28\n"
     ]
    },
    {
     "data": {
      "image/png": "[encoded data removed]",
      "text/plain": [
       "Plot with title \"Response vs. Fitted Values\""
      ]
     },
     "metadata": {
      "image/png": {
       "height": 420,
       "width": 420
      }
     },
     "output_type": "display_data"
    }
   ],
   "source": [
    "gam.check(m1)"
   ]
  },
  {
   "cell_type": "code",
   "execution_count": 101,
   "id": "90420417",
   "metadata": {},
   "outputs": [
    {
     "data": {
      "text/plain": [
       "\n",
       "Family: gaussian \n",
       "Link function: identity \n",
       "\n",
       "Formula:\n",
       "discrimination_deviations ~ s(nr_dimensions, by = nr_persons, \n",
       "    k = 4)\n",
       "\n",
       "Parametric coefficients:\n",
       "            Estimate Std. Error t value Pr(>|t|)    \n",
       "(Intercept) -0.09783    0.01114  -8.781   <2e-16 ***\n",
       "---\n",
       "Signif. codes:  0 '***' 0.001 '**' 0.01 '*' 0.05 '.' 0.1 ' ' 1\n",
       "\n",
       "Approximate significance of smooth terms:\n",
       "                              edf Ref.df     F  p-value    \n",
       "s(nr_dimensions):nr_persons 3.873  3.986 8.124 6.73e-07 ***\n",
       "---\n",
       "Signif. codes:  0 '***' 0.001 '**' 0.01 '*' 0.05 '.' 0.1 ' ' 1\n",
       "\n",
       "R-sq.(adj) =  0.00101   Deviance explained = 0.113%\n",
       "GCV = 0.14943  Scale est. = 0.14941   n = 31360"
      ]
     },
     "metadata": {},
     "output_type": "display_data"
    }
   ],
   "source": [
    "summary(m1)"
   ]
  },
  {
   "cell_type": "code",
   "execution_count": 110,
   "id": "4d1851af",
   "metadata": {},
   "outputs": [
    {
     "data": {
      "image/png": "[encoded data removed]",
      "text/plain": [
       "plot without title"
      ]
     },
     "metadata": {
      "image/png": {
       "height": 420,
       "width": 420
      }
     },
     "output_type": "display_data"
    }
   ],
   "source": [
    "vis.gam(m1, theta=45, too.far = .3, ticktype=\"detailed\")"
   ]
  },
  {
   "cell_type": "markdown",
   "id": "58439abe",
   "metadata": {},
   "source": [
    "The GAM predicts more or less the same as the linear model: The number of persons has a positive, yet not incredibly big effect."
   ]
  },
  {
   "cell_type": "code",
   "execution_count": null,
   "id": "342fcf81",
   "metadata": {},
   "outputs": [],
   "source": []
  },
  {
   "cell_type": "markdown",
   "id": "9ab9297c",
   "metadata": {},
   "source": [
    "[**back to contents**](#contents)"
   ]
  },
  {
   "cell_type": "markdown",
   "id": "8d9b2403",
   "metadata": {},
   "source": [
    "<a id='beta_dev'></a>\n",
    "### Beta deviations"
   ]
  },
  {
   "cell_type": "markdown",
   "id": "22c90470",
   "metadata": {},
   "source": [
    "<a id='beta_dev_descriptive'></a>\n",
    "### Descriptive analyses"
   ]
  },
  {
   "cell_type": "code",
   "execution_count": 111,
   "id": "9b8d5a3a",
   "metadata": {},
   "outputs": [
    {
     "name": "stderr",
     "output_type": "stream",
     "text": [
      "\u001b[1m\u001b[22m`summarise()` has grouped output by 'nr_persons'. You can override using the `.groups` argument.\n"
     ]
    },
    {
     "data": {
      "text/html": [
       "<table class=\"dataframe\">\n",
       "<caption>A grouped_df: 2 × 5</caption>\n",
       "<thead>\n",
       "\t<tr><th scope=col>nr_persons</th><th scope=col>nr_items</th><th scope=col>alpha_deviations</th><th scope=col>alpha_deviations_se</th><th scope=col>aplha_deviations_sd</th></tr>\n",
       "\t<tr><th scope=col>&lt;dbl&gt;</th><th scope=col>&lt;dbl&gt;</th><th scope=col>&lt;dbl&gt;</th><th scope=col>&lt;dbl&gt;</th><th scope=col>&lt;dbl&gt;</th></tr>\n",
       "</thead>\n",
       "<tbody>\n",
       "\t<tr><td>200</td><td>40</td><td>0.001886061</td><td>0.002857116</td><td>0.3613997</td></tr>\n",
       "\t<tr><td>300</td><td>40</td><td>0.006401675</td><td>0.002308764</td><td>0.2920381</td></tr>\n",
       "</tbody>\n",
       "</table>\n"
      ],
      "text/latex": [
       "A grouped\\_df: 2 × 5\n",
       "\\begin{tabular}{lllll}\n",
       " nr\\_persons & nr\\_items & alpha\\_deviations & alpha\\_deviations\\_se & aplha\\_deviations\\_sd\\\\\n",
       " <dbl> & <dbl> & <dbl> & <dbl> & <dbl>\\\\\n",
       "\\hline\n",
       "\t 200 & 40 & 0.001886061 & 0.002857116 & 0.3613997\\\\\n",
       "\t 300 & 40 & 0.006401675 & 0.002308764 & 0.2920381\\\\\n",
       "\\end{tabular}\n"
      ],
      "text/markdown": [
       "\n",
       "A grouped_df: 2 × 5\n",
       "\n",
       "| nr_persons &lt;dbl&gt; | nr_items &lt;dbl&gt; | alpha_deviations &lt;dbl&gt; | alpha_deviations_se &lt;dbl&gt; | aplha_deviations_sd &lt;dbl&gt; |\n",
       "|---|---|---|---|---|\n",
       "| 200 | 40 | 0.001886061 | 0.002857116 | 0.3613997 |\n",
       "| 300 | 40 | 0.006401675 | 0.002308764 | 0.2920381 |\n",
       "\n"
      ],
      "text/plain": [
       "  nr_persons nr_items alpha_deviations alpha_deviations_se aplha_deviations_sd\n",
       "1 200        40       0.001886061      0.002857116         0.3613997          \n",
       "2 300        40       0.006401675      0.002308764         0.2920381          "
      ]
     },
     "metadata": {},
     "output_type": "display_data"
    }
   ],
   "source": [
    "beta_results %>%\n",
    "  group_by(nr_persons, nr_items) %>%\n",
    "  summarise(\n",
    "    alpha_deviations = mean(difficulty_deviations),\n",
    "    alpha_deviations_se = se(difficulty_deviations),\n",
    "    aplha_deviations_sd = sd(difficulty_deviations)\n",
    "  )"
   ]
  },
  {
   "cell_type": "code",
   "execution_count": 112,
   "id": "4023a9aa",
   "metadata": {},
   "outputs": [
    {
     "name": "stderr",
     "output_type": "stream",
     "text": [
      "\u001b[1m\u001b[22m`summarise()` has grouped output by 'nr_persons', 'nr_items'. You can override using the `.groups` argument.\n"
     ]
    },
    {
     "data": {
      "text/html": [
       "<table class=\"dataframe\">\n",
       "<caption>A grouped_df: 8 × 6</caption>\n",
       "<thead>\n",
       "\t<tr><th scope=col>nr_persons</th><th scope=col>nr_items</th><th scope=col>nr_dimensions</th><th scope=col>alpha_deviations</th><th scope=col>alpha_deviations_se</th><th scope=col>aplha_deviations_sd</th></tr>\n",
       "\t<tr><th scope=col>&lt;dbl&gt;</th><th scope=col>&lt;dbl&gt;</th><th scope=col>&lt;dbl&gt;</th><th scope=col>&lt;dbl&gt;</th><th scope=col>&lt;dbl&gt;</th><th scope=col>&lt;dbl&gt;</th></tr>\n",
       "</thead>\n",
       "<tbody>\n",
       "\t<tr><td>200</td><td>40</td><td>1</td><td> 0.017149722</td><td>0.004538465</td><td>0.2870377</td></tr>\n",
       "\t<tr><td>200</td><td>40</td><td>3</td><td> 0.021607547</td><td>0.005656081</td><td>0.3577220</td></tr>\n",
       "\t<tr><td>200</td><td>40</td><td>4</td><td> 0.003901083</td><td>0.006266962</td><td>0.3963575</td></tr>\n",
       "\t<tr><td>200</td><td>40</td><td>5</td><td>-0.035114107</td><td>0.006186410</td><td>0.3912629</td></tr>\n",
       "\t<tr><td>300</td><td>40</td><td>1</td><td> 0.017397893</td><td>0.003617167</td><td>0.2287697</td></tr>\n",
       "\t<tr><td>300</td><td>40</td><td>3</td><td> 0.003138876</td><td>0.004803221</td><td>0.3037823</td></tr>\n",
       "\t<tr><td>300</td><td>40</td><td>4</td><td> 0.019320603</td><td>0.004684653</td><td>0.2962835</td></tr>\n",
       "\t<tr><td>300</td><td>40</td><td>5</td><td>-0.014250671</td><td>0.005198093</td><td>0.3287563</td></tr>\n",
       "</tbody>\n",
       "</table>\n"
      ],
      "text/latex": [
       "A grouped\\_df: 8 × 6\n",
       "\\begin{tabular}{llllll}\n",
       " nr\\_persons & nr\\_items & nr\\_dimensions & alpha\\_deviations & alpha\\_deviations\\_se & aplha\\_deviations\\_sd\\\\\n",
       " <dbl> & <dbl> & <dbl> & <dbl> & <dbl> & <dbl>\\\\\n",
       "\\hline\n",
       "\t 200 & 40 & 1 &  0.017149722 & 0.004538465 & 0.2870377\\\\\n",
       "\t 200 & 40 & 3 &  0.021607547 & 0.005656081 & 0.3577220\\\\\n",
       "\t 200 & 40 & 4 &  0.003901083 & 0.006266962 & 0.3963575\\\\\n",
       "\t 200 & 40 & 5 & -0.035114107 & 0.006186410 & 0.3912629\\\\\n",
       "\t 300 & 40 & 1 &  0.017397893 & 0.003617167 & 0.2287697\\\\\n",
       "\t 300 & 40 & 3 &  0.003138876 & 0.004803221 & 0.3037823\\\\\n",
       "\t 300 & 40 & 4 &  0.019320603 & 0.004684653 & 0.2962835\\\\\n",
       "\t 300 & 40 & 5 & -0.014250671 & 0.005198093 & 0.3287563\\\\\n",
       "\\end{tabular}\n"
      ],
      "text/markdown": [
       "\n",
       "A grouped_df: 8 × 6\n",
       "\n",
       "| nr_persons &lt;dbl&gt; | nr_items &lt;dbl&gt; | nr_dimensions &lt;dbl&gt; | alpha_deviations &lt;dbl&gt; | alpha_deviations_se &lt;dbl&gt; | aplha_deviations_sd &lt;dbl&gt; |\n",
       "|---|---|---|---|---|---|\n",
       "| 200 | 40 | 1 |  0.017149722 | 0.004538465 | 0.2870377 |\n",
       "| 200 | 40 | 3 |  0.021607547 | 0.005656081 | 0.3577220 |\n",
       "| 200 | 40 | 4 |  0.003901083 | 0.006266962 | 0.3963575 |\n",
       "| 200 | 40 | 5 | -0.035114107 | 0.006186410 | 0.3912629 |\n",
       "| 300 | 40 | 1 |  0.017397893 | 0.003617167 | 0.2287697 |\n",
       "| 300 | 40 | 3 |  0.003138876 | 0.004803221 | 0.3037823 |\n",
       "| 300 | 40 | 4 |  0.019320603 | 0.004684653 | 0.2962835 |\n",
       "| 300 | 40 | 5 | -0.014250671 | 0.005198093 | 0.3287563 |\n",
       "\n"
      ],
      "text/plain": [
       "  nr_persons nr_items nr_dimensions alpha_deviations alpha_deviations_se\n",
       "1 200        40       1              0.017149722     0.004538465        \n",
       "2 200        40       3              0.021607547     0.005656081        \n",
       "3 200        40       4              0.003901083     0.006266962        \n",
       "4 200        40       5             -0.035114107     0.006186410        \n",
       "5 300        40       1              0.017397893     0.003617167        \n",
       "6 300        40       3              0.003138876     0.004803221        \n",
       "7 300        40       4              0.019320603     0.004684653        \n",
       "8 300        40       5             -0.014250671     0.005198093        \n",
       "  aplha_deviations_sd\n",
       "1 0.2870377          \n",
       "2 0.3577220          \n",
       "3 0.3963575          \n",
       "4 0.3912629          \n",
       "5 0.2287697          \n",
       "6 0.3037823          \n",
       "7 0.2962835          \n",
       "8 0.3287563          "
      ]
     },
     "metadata": {},
     "output_type": "display_data"
    }
   ],
   "source": [
    "beta_results %>%\n",
    "  group_by(nr_persons, nr_items, nr_dimensions) %>%\n",
    "  summarise(\n",
    "    alpha_deviations = mean(difficulty_deviations),\n",
    "    alpha_deviations_se = se(difficulty_deviations),\n",
    "    aplha_deviations_sd = sd(difficulty_deviations)\n",
    "  )"
   ]
  },
  {
   "cell_type": "code",
   "execution_count": 113,
   "id": "cc554d3e",
   "metadata": {},
   "outputs": [
    {
     "data": {
      "image/png": "[encoded data removed]",
      "text/plain": [
       "plot without title"
      ]
     },
     "metadata": {
      "image/png": {
       "height": 420,
       "width": 420
      }
     },
     "output_type": "display_data"
    }
   ],
   "source": [
    "beta_results %>%\n",
    "    ggplot(aes(x=difficulty_deviations)) + \n",
    "        geom_vline(xintercept=0, linetype=\"dashed\", size=1.2) +\n",
    "        geom_histogram(bins=100, alpha=.6) "
   ]
  },
  {
   "cell_type": "markdown",
   "id": "f4be3721",
   "metadata": {},
   "source": [
    "There is no highly visible skew; the errors seem to be more or less normally distributed around the true value"
   ]
  },
  {
   "cell_type": "code",
   "execution_count": 115,
   "id": "f7a7f7ff",
   "metadata": {},
   "outputs": [
    {
     "data": {
      "text/html": [
       "-0.0195181209124927"
      ],
      "text/latex": [
       "-0.0195181209124927"
      ],
      "text/markdown": [
       "-0.0195181209124927"
      ],
      "text/plain": [
       "[1] -0.01951812"
      ]
     },
     "metadata": {},
     "output_type": "display_data"
    },
    {
     "data": {
      "text/html": [
       "6.2100172558186"
      ],
      "text/latex": [
       "6.2100172558186"
      ],
      "text/markdown": [
       "6.2100172558186"
      ],
      "text/plain": [
       "[1] 6.210017"
      ]
     },
     "metadata": {},
     "output_type": "display_data"
    }
   ],
   "source": [
    "skewness(beta_results$difficulty_deviations)\n",
    "kurtosis(beta_results$difficulty_deviations)"
   ]
  },
  {
   "cell_type": "markdown",
   "id": "ec7a3f7c",
   "metadata": {},
   "source": [
    "Small skew to the left; more values in the tails than under normal assumption."
   ]
  },
  {
   "cell_type": "code",
   "execution_count": 116,
   "id": "acd4eda6",
   "metadata": {},
   "outputs": [
    {
     "data": {
      "image/png": "[encoded data removed]",
      "text/plain": [
       "plot without title"
      ]
     },
     "metadata": {
      "image/png": {
       "height": 420,
       "width": 420
      }
     },
     "output_type": "display_data"
    }
   ],
   "source": [
    "# Distribution\n",
    "beta_results %>%\n",
    "    ggplot(aes(x=difficulty_deviations, col=as.factor(nr_dimensions))) + \n",
    "        geom_vline(xintercept=0, linetype=\"dashed\", size=1.2) +\n",
    "        stat_ecdf(size=1.2) +\n",
    "        coord_cartesian(xlim=c(-1.5, 1.5))"
   ]
  },
  {
   "cell_type": "markdown",
   "id": "c822c466",
   "metadata": {},
   "source": [
    "More dimensions lead to a little more deviations here as well."
   ]
  },
  {
   "cell_type": "code",
   "execution_count": 175,
   "id": "1bf63687",
   "metadata": {},
   "outputs": [
    {
     "data": {
      "image/png": "[encoded data removed]",
      "text/plain": [
       "plot without title"
      ]
     },
     "metadata": {
      "image/png": {
       "height": 420,
       "width": 420
      }
     },
     "output_type": "display_data"
    }
   ],
   "source": [
    "# Mean and SE\n",
    "beta_results %>%\n",
    "  ggplot(aes(x=as.factor(nr_items), y=difficulty_deviations, fill=as.factor(nr_dimensions))) +\n",
    "    geom_violin(alpha=.3) +\n",
    "    geom_boxplot(alpha=.5, position = position_dodge(.9)) +\n",
    "        facet_wrap(~as.factor(nr_persons))"
   ]
  },
  {
   "cell_type": "code",
   "execution_count": 120,
   "id": "35fd93f3",
   "metadata": {},
   "outputs": [
    {
     "name": "stderr",
     "output_type": "stream",
     "text": [
      "\u001b[1m\u001b[22m`summarise()` has grouped output by 'nr_persons', 'nr_items'. You can override using the `.groups` argument.\n"
     ]
    },
    {
     "data": {
      "image/png": "[encoded data removed]",
      "text/plain": [
       "plot without title"
      ]
     },
     "metadata": {
      "image/png": {
       "height": 420,
       "width": 420
      }
     },
     "output_type": "display_data"
    }
   ],
   "source": [
    "# Mean and SE\n",
    "beta_results %>%\n",
    "  group_by(nr_persons, nr_items, nr_dimensions) %>%\n",
    "  summarise(\n",
    "    beta_deviations = mean(difficulty_deviations),\n",
    "    beta_deviations_se = se(difficulty_deviations)\n",
    "  ) %>% \n",
    "  ggplot(aes(x=as.factor(nr_items), y=beta_deviations, fill=as.factor(nr_dimensions))) +\n",
    "    geom_bar(stat=\"identity\", position = position_dodge()) +\n",
    "    facet_wrap(~as.factor(nr_persons), scales=\"free\") +\n",
    "    geom_errorbar(\n",
    "        aes(\n",
    "            x=as.factor(nr_items), \n",
    "            ymin=beta_deviations - 1.96 * beta_deviations_se, \n",
    "            ymax=beta_deviations + 1.96 * beta_deviations_se\n",
    "        ), \n",
    "        width=.3,\n",
    "        position=position_dodge(.9)\n",
    "    ) +\n",
    "    geom_hline(yintercept=0, linetype=\"dashed\", size=1.2) +\n",
    "    coord_cartesian(ylim=c(-.2, .2))"
   ]
  },
  {
   "cell_type": "markdown",
   "id": "5b1b2012",
   "metadata": {},
   "source": [
    "[**back to contents**](#contents)"
   ]
  },
  {
   "cell_type": "markdown",
   "id": "92d1c6c0",
   "metadata": {},
   "source": [
    "<a id='beta_dev_stats'></a>\n",
    "### Statistical analyses"
   ]
  },
  {
   "cell_type": "markdown",
   "id": "5b0125c2",
   "metadata": {},
   "source": [
    "**Do 200 vs. 300 people make a difference?**"
   ]
  },
  {
   "cell_type": "code",
   "execution_count": 121,
   "id": "99c48188",
   "metadata": {},
   "outputs": [
    {
     "data": {
      "text/plain": [
       "\n",
       "\tWelch Two Sample t-test\n",
       "\n",
       "data:  beta_results %>% filter(nr_persons == 200) %>% select(difficulty_deviations) and beta_results %>% filter(nr_persons == 300) %>% select(difficulty_deviations)\n",
       "t = -1.2293, df = 30647, p-value = 0.219\n",
       "alternative hypothesis: true difference in means is not equal to 0\n",
       "95 percent confidence interval:\n",
       " -0.011715532  0.002684304\n",
       "sample estimates:\n",
       "  mean of x   mean of y \n",
       "0.001886061 0.006401675 \n"
      ]
     },
     "metadata": {},
     "output_type": "display_data"
    }
   ],
   "source": [
    "# Does it make a difference whether we use 200 or 300 people?\n",
    "t.test(\n",
    "    beta_results %>% filter(nr_persons == 200) %>% select(difficulty_deviations),\n",
    "    beta_results %>% filter(nr_persons == 300) %>% select(difficulty_deviations),\n",
    ")"
   ]
  },
  {
   "cell_type": "code",
   "execution_count": 122,
   "id": "172e22c1",
   "metadata": {},
   "outputs": [
    {
     "data": {
      "text/plain": [
       "\n",
       "\tF test to compare two variances\n",
       "\n",
       "data:  beta_results %>% filter(nr_persons == 200) %>% pull(difficulty_deviations) and beta_results %>% filter(nr_persons == 300) %>% pull(difficulty_deviations)\n",
       "F = 1.5314, num df = 15999, denom df = 15999, p-value < 2.2e-16\n",
       "alternative hypothesis: true ratio of variances is not equal to 1\n",
       "95 percent confidence interval:\n",
       " 1.484694 1.579633\n",
       "sample estimates:\n",
       "ratio of variances \n",
       "          1.531428 \n"
      ]
     },
     "metadata": {},
     "output_type": "display_data"
    }
   ],
   "source": [
    "var.test(\n",
    "    beta_results %>% filter(nr_persons == 200) %>% pull(difficulty_deviations),\n",
    "    beta_results %>% filter(nr_persons == 300) %>% pull(difficulty_deviations),\n",
    ")"
   ]
  },
  {
   "cell_type": "markdown",
   "id": "8c94601a",
   "metadata": {},
   "source": [
    "We see that \n",
    "* the estimates are not less biased (not statistically significant)\n",
    "* the estimations are more closely centered for 300 people, i.e. they have less variance around the true value"
   ]
  },
  {
   "cell_type": "markdown",
   "id": "7dd174a0",
   "metadata": {},
   "source": [
    "**Does the interaction of number of persons and number of dimensions make a difference?**"
   ]
  },
  {
   "cell_type": "code",
   "execution_count": 124,
   "id": "cdc5fce9",
   "metadata": {},
   "outputs": [],
   "source": [
    "beta_results_without_outliers <- remove_outliers(beta_results, \"difficulty_deviations\", .01)"
   ]
  },
  {
   "cell_type": "code",
   "execution_count": 125,
   "id": "bcf19fad",
   "metadata": {},
   "outputs": [],
   "source": [
    "m0 <- lm(\n",
    "    difficulty_deviations ~\n",
    "    as.factor(nr_persons) * nr_dimensions, \n",
    "    beta_results_without_outliers\n",
    ")"
   ]
  },
  {
   "cell_type": "code",
   "execution_count": 126,
   "id": "185ea073",
   "metadata": {},
   "outputs": [
    {
     "data": {
      "image/png": "[encoded data removed]",
      "text/plain": [
       "Plot with title \"\""
      ]
     },
     "metadata": {
      "image/png": {
       "height": 420,
       "width": 420
      }
     },
     "output_type": "display_data"
    },
    {
     "data": {
      "image/png": "[encoded data removed]",
      "text/plain": [
       "Plot with title \"\""
      ]
     },
     "metadata": {
      "image/png": {
       "height": 420,
       "width": 420
      }
     },
     "output_type": "display_data"
    },
    {
     "data": {
      "image/png": "[encoded data removed]",
      "text/plain": [
       "Plot with title \"\""
      ]
     },
     "metadata": {
      "image/png": {
       "height": 420,
       "width": 420
      }
     },
     "output_type": "display_data"
    },
    {
     "data": {
      "image/png": "[encoded data removed]",
      "text/plain": [
       "Plot with title \"\""
      ]
     },
     "metadata": {
      "image/png": {
       "height": 420,
       "width": 420
      }
     },
     "output_type": "display_data"
    }
   ],
   "source": [
    "plot(m0)"
   ]
  },
  {
   "cell_type": "code",
   "execution_count": 127,
   "id": "1630e8b9",
   "metadata": {},
   "outputs": [
    {
     "data": {
      "text/plain": [
       "\n",
       "Call:\n",
       "lm(formula = difficulty_deviations ~ as.factor(nr_persons) * \n",
       "    nr_dimensions, data = beta_results_without_outliers)\n",
       "\n",
       "Residuals:\n",
       "     Min       1Q   Median       3Q      Max \n",
       "-0.89511 -0.17477 -0.00054  0.17696  0.89909 \n",
       "\n",
       "Coefficients:\n",
       "                                        Estimate Std. Error t value Pr(>|t|)\n",
       "(Intercept)                             0.029608   0.005522   5.362 8.28e-08\n",
       "as.factor(nr_persons)300               -0.008710   0.007792  -1.118    0.264\n",
       "nr_dimensions                          -0.008266   0.001552  -5.326 1.01e-07\n",
       "as.factor(nr_persons)300:nr_dimensions  0.003533   0.002188   1.615    0.106\n",
       "                                          \n",
       "(Intercept)                            ***\n",
       "as.factor(nr_persons)300                  \n",
       "nr_dimensions                          ***\n",
       "as.factor(nr_persons)300:nr_dimensions    \n",
       "---\n",
       "Signif. codes:  0 '***' 0.001 '**' 0.01 '*' 0.05 '.' 0.1 ' ' 1\n",
       "\n",
       "Residual standard error: 0.287 on 31356 degrees of freedom\n",
       "Multiple R-squared:  0.001225,\tAdjusted R-squared:  0.00113 \n",
       "F-statistic: 12.82 on 3 and 31356 DF,  p-value: 2.27e-08\n"
      ]
     },
     "metadata": {},
     "output_type": "display_data"
    }
   ],
   "source": [
    "summary(m0)"
   ]
  },
  {
   "cell_type": "markdown",
   "id": "38dbd4f7",
   "metadata": {},
   "source": [
    "We see the following:\n",
    "* Since the intercept is positive, a negative coefficient corresponds to an improvement in estimation accuracy (as long as it does not overshoot)\n",
    "* There are no significant improvements of the accuracy for more persons.\n",
    "\n",
    "However, the model should not be trusted blindly, it is not particularly good."
   ]
  },
  {
   "cell_type": "code",
   "execution_count": 128,
   "id": "3b763ffc",
   "metadata": {},
   "outputs": [],
   "source": [
    "m1 <- mgcv::gam(\n",
    "    difficulty_deviations  ~\n",
    "    s(nr_dimensions, by=nr_persons, k=4), \n",
    "    data=beta_results_without_outliers\n",
    ")"
   ]
  },
  {
   "cell_type": "code",
   "execution_count": 129,
   "id": "21659872",
   "metadata": {},
   "outputs": [
    {
     "name": "stdout",
     "output_type": "stream",
     "text": [
      "\n",
      "Method: GCV   Optimizer: magic\n",
      "Smoothing parameter selection converged after 5 iterations.\n",
      "The RMS GCV score gradient at convergence was 7.63602e-08 .\n",
      "The Hessian was positive definite.\n",
      "Model rank =  5 / 5 \n",
      "\n",
      "Basis dimension (k) checking results. Low p-value (k-index<1) may\n",
      "indicate that k is too low, especially if edf is close to k'.\n",
      "\n",
      "                             k' edf k-index p-value\n",
      "s(nr_dimensions):nr_persons 4.0 3.9    0.99    0.22\n"
     ]
    },
    {
     "data": {
      "image/png": "[encoded data removed]",
      "text/plain": [
       "Plot with title \"Response vs. Fitted Values\""
      ]
     },
     "metadata": {
      "image/png": {
       "height": 420,
       "width": 420
      }
     },
     "output_type": "display_data"
    }
   ],
   "source": [
    "gam.check(m1)"
   ]
  },
  {
   "cell_type": "code",
   "execution_count": 130,
   "id": "2d4b176f",
   "metadata": {},
   "outputs": [
    {
     "data": {
      "text/plain": [
       "\n",
       "Family: gaussian \n",
       "Link function: identity \n",
       "\n",
       "Formula:\n",
       "difficulty_deviations ~ s(nr_dimensions, by = nr_persons, k = 4)\n",
       "\n",
       "Parametric coefficients:\n",
       "             Estimate Std. Error t value Pr(>|t|)\n",
       "(Intercept) -0.002529   0.008275  -0.306     0.76\n",
       "\n",
       "Approximate significance of smooth terms:\n",
       "                              edf Ref.df     F p-value    \n",
       "s(nr_dimensions):nr_persons 3.896  3.991 14.44  <2e-16 ***\n",
       "---\n",
       "Signif. codes:  0 '***' 0.001 '**' 0.01 '*' 0.05 '.' 0.1 ' ' 1\n",
       "\n",
       "R-sq.(adj) =  0.0017   Deviance explained = 0.182%\n",
       "GCV = 0.082345  Scale est. = 0.082332  n = 31360"
      ]
     },
     "metadata": {},
     "output_type": "display_data"
    }
   ],
   "source": [
    "summary(m1)"
   ]
  },
  {
   "cell_type": "code",
   "execution_count": 136,
   "id": "a2687156",
   "metadata": {},
   "outputs": [
    {
     "data": {
      "image/png": "[encoded data removed]",
      "text/plain": [
       "plot without title"
      ]
     },
     "metadata": {
      "image/png": {
       "height": 420,
       "width": 420
      }
     },
     "output_type": "display_data"
    }
   ],
   "source": [
    "vis.gam(m1, theta=124, too.far = .3, ticktype=\"detailed\")"
   ]
  },
  {
   "cell_type": "markdown",
   "id": "f38915cf",
   "metadata": {},
   "source": [
    "The GAM predicts that more persons actually lead to a slightly more biased estimation."
   ]
  },
  {
   "cell_type": "markdown",
   "id": "2e8fe6de",
   "metadata": {},
   "source": [
    "[**back to contents**](#contents)"
   ]
  },
  {
   "cell_type": "markdown",
   "id": "0ab58013",
   "metadata": {},
   "source": [
    "<a id='theta_dev'></a>\n",
    "## Theta deviations"
   ]
  },
  {
   "cell_type": "markdown",
   "id": "239ae351",
   "metadata": {},
   "source": [
    "<a id='theta_dev_descriptive'></a>\n",
    "### Descriptive analyses"
   ]
  },
  {
   "cell_type": "code",
   "execution_count": 138,
   "id": "b8b7ea2e",
   "metadata": {},
   "outputs": [
    {
     "name": "stderr",
     "output_type": "stream",
     "text": [
      "\u001b[1m\u001b[22m`summarise()` has grouped output by 'nr_persons'. You can override using the `.groups` argument.\n"
     ]
    },
    {
     "data": {
      "text/html": [
       "<table class=\"dataframe\">\n",
       "<caption>A grouped_df: 2 × 5</caption>\n",
       "<thead>\n",
       "\t<tr><th scope=col>nr_persons</th><th scope=col>nr_items</th><th scope=col>alpha_deviations</th><th scope=col>alpha_deviations_se</th><th scope=col>aplha_deviations_sd</th></tr>\n",
       "\t<tr><th scope=col>&lt;dbl&gt;</th><th scope=col>&lt;dbl&gt;</th><th scope=col>&lt;dbl&gt;</th><th scope=col>&lt;dbl&gt;</th><th scope=col>&lt;dbl&gt;</th></tr>\n",
       "</thead>\n",
       "<tbody>\n",
       "\t<tr><td>200</td><td>40</td><td>-0.001591331</td><td>0.0012550450</td><td>0.3549803</td></tr>\n",
       "\t<tr><td>300</td><td>40</td><td>-0.003083793</td><td>0.0009971286</td><td>0.3454155</td></tr>\n",
       "</tbody>\n",
       "</table>\n"
      ],
      "text/latex": [
       "A grouped\\_df: 2 × 5\n",
       "\\begin{tabular}{lllll}\n",
       " nr\\_persons & nr\\_items & alpha\\_deviations & alpha\\_deviations\\_se & aplha\\_deviations\\_sd\\\\\n",
       " <dbl> & <dbl> & <dbl> & <dbl> & <dbl>\\\\\n",
       "\\hline\n",
       "\t 200 & 40 & -0.001591331 & 0.0012550450 & 0.3549803\\\\\n",
       "\t 300 & 40 & -0.003083793 & 0.0009971286 & 0.3454155\\\\\n",
       "\\end{tabular}\n"
      ],
      "text/markdown": [
       "\n",
       "A grouped_df: 2 × 5\n",
       "\n",
       "| nr_persons &lt;dbl&gt; | nr_items &lt;dbl&gt; | alpha_deviations &lt;dbl&gt; | alpha_deviations_se &lt;dbl&gt; | aplha_deviations_sd &lt;dbl&gt; |\n",
       "|---|---|---|---|---|\n",
       "| 200 | 40 | -0.001591331 | 0.0012550450 | 0.3549803 |\n",
       "| 300 | 40 | -0.003083793 | 0.0009971286 | 0.3454155 |\n",
       "\n"
      ],
      "text/plain": [
       "  nr_persons nr_items alpha_deviations alpha_deviations_se aplha_deviations_sd\n",
       "1 200        40       -0.001591331     0.0012550450        0.3549803          \n",
       "2 300        40       -0.003083793     0.0009971286        0.3454155          "
      ]
     },
     "metadata": {},
     "output_type": "display_data"
    }
   ],
   "source": [
    "theta_results %>%\n",
    "  group_by(nr_persons, nr_items) %>%\n",
    "  summarise(\n",
    "    alpha_deviations = mean(theta_deviations),\n",
    "    alpha_deviations_se = se(theta_deviations),\n",
    "    aplha_deviations_sd = sd(theta_deviations)\n",
    "  )"
   ]
  },
  {
   "cell_type": "code",
   "execution_count": 139,
   "id": "803ff02d",
   "metadata": {},
   "outputs": [
    {
     "name": "stderr",
     "output_type": "stream",
     "text": [
      "\u001b[1m\u001b[22m`summarise()` has grouped output by 'nr_persons', 'nr_items'. You can override using the `.groups` argument.\n"
     ]
    },
    {
     "data": {
      "text/html": [
       "<table class=\"dataframe\">\n",
       "<caption>A grouped_df: 8 × 6</caption>\n",
       "<thead>\n",
       "\t<tr><th scope=col>nr_persons</th><th scope=col>nr_items</th><th scope=col>nr_dimensions</th><th scope=col>alpha_deviations</th><th scope=col>alpha_deviations_se</th><th scope=col>aplha_deviations_sd</th></tr>\n",
       "\t<tr><th scope=col>&lt;dbl&gt;</th><th scope=col>&lt;dbl&gt;</th><th scope=col>&lt;dbl&gt;</th><th scope=col>&lt;dbl&gt;</th><th scope=col>&lt;dbl&gt;</th><th scope=col>&lt;dbl&gt;</th></tr>\n",
       "</thead>\n",
       "<tbody>\n",
       "\t<tr><td>200</td><td>40</td><td>1</td><td>-0.005125623</td><td>0.002014764</td><td>0.2849306</td></tr>\n",
       "\t<tr><td>200</td><td>40</td><td>3</td><td>-0.009431644</td><td>0.002685517</td><td>0.3797894</td></tr>\n",
       "\t<tr><td>200</td><td>40</td><td>4</td><td>-0.004346137</td><td>0.002657188</td><td>0.3757831</td></tr>\n",
       "\t<tr><td>200</td><td>40</td><td>5</td><td> 0.012538079</td><td>0.002618621</td><td>0.3703289</td></tr>\n",
       "\t<tr><td>300</td><td>40</td><td>1</td><td>-0.003749659</td><td>0.001594719</td><td>0.2762134</td></tr>\n",
       "\t<tr><td>300</td><td>40</td><td>3</td><td> 0.004867906</td><td>0.002123760</td><td>0.3678460</td></tr>\n",
       "\t<tr><td>300</td><td>40</td><td>4</td><td>-0.008792206</td><td>0.002099865</td><td>0.3637072</td></tr>\n",
       "\t<tr><td>300</td><td>40</td><td>5</td><td>-0.004661213</td><td>0.002107709</td><td>0.3650660</td></tr>\n",
       "</tbody>\n",
       "</table>\n"
      ],
      "text/latex": [
       "A grouped\\_df: 8 × 6\n",
       "\\begin{tabular}{llllll}\n",
       " nr\\_persons & nr\\_items & nr\\_dimensions & alpha\\_deviations & alpha\\_deviations\\_se & aplha\\_deviations\\_sd\\\\\n",
       " <dbl> & <dbl> & <dbl> & <dbl> & <dbl> & <dbl>\\\\\n",
       "\\hline\n",
       "\t 200 & 40 & 1 & -0.005125623 & 0.002014764 & 0.2849306\\\\\n",
       "\t 200 & 40 & 3 & -0.009431644 & 0.002685517 & 0.3797894\\\\\n",
       "\t 200 & 40 & 4 & -0.004346137 & 0.002657188 & 0.3757831\\\\\n",
       "\t 200 & 40 & 5 &  0.012538079 & 0.002618621 & 0.3703289\\\\\n",
       "\t 300 & 40 & 1 & -0.003749659 & 0.001594719 & 0.2762134\\\\\n",
       "\t 300 & 40 & 3 &  0.004867906 & 0.002123760 & 0.3678460\\\\\n",
       "\t 300 & 40 & 4 & -0.008792206 & 0.002099865 & 0.3637072\\\\\n",
       "\t 300 & 40 & 5 & -0.004661213 & 0.002107709 & 0.3650660\\\\\n",
       "\\end{tabular}\n"
      ],
      "text/markdown": [
       "\n",
       "A grouped_df: 8 × 6\n",
       "\n",
       "| nr_persons &lt;dbl&gt; | nr_items &lt;dbl&gt; | nr_dimensions &lt;dbl&gt; | alpha_deviations &lt;dbl&gt; | alpha_deviations_se &lt;dbl&gt; | aplha_deviations_sd &lt;dbl&gt; |\n",
       "|---|---|---|---|---|---|\n",
       "| 200 | 40 | 1 | -0.005125623 | 0.002014764 | 0.2849306 |\n",
       "| 200 | 40 | 3 | -0.009431644 | 0.002685517 | 0.3797894 |\n",
       "| 200 | 40 | 4 | -0.004346137 | 0.002657188 | 0.3757831 |\n",
       "| 200 | 40 | 5 |  0.012538079 | 0.002618621 | 0.3703289 |\n",
       "| 300 | 40 | 1 | -0.003749659 | 0.001594719 | 0.2762134 |\n",
       "| 300 | 40 | 3 |  0.004867906 | 0.002123760 | 0.3678460 |\n",
       "| 300 | 40 | 4 | -0.008792206 | 0.002099865 | 0.3637072 |\n",
       "| 300 | 40 | 5 | -0.004661213 | 0.002107709 | 0.3650660 |\n",
       "\n"
      ],
      "text/plain": [
       "  nr_persons nr_items nr_dimensions alpha_deviations alpha_deviations_se\n",
       "1 200        40       1             -0.005125623     0.002014764        \n",
       "2 200        40       3             -0.009431644     0.002685517        \n",
       "3 200        40       4             -0.004346137     0.002657188        \n",
       "4 200        40       5              0.012538079     0.002618621        \n",
       "5 300        40       1             -0.003749659     0.001594719        \n",
       "6 300        40       3              0.004867906     0.002123760        \n",
       "7 300        40       4             -0.008792206     0.002099865        \n",
       "8 300        40       5             -0.004661213     0.002107709        \n",
       "  aplha_deviations_sd\n",
       "1 0.2849306          \n",
       "2 0.3797894          \n",
       "3 0.3757831          \n",
       "4 0.3703289          \n",
       "5 0.2762134          \n",
       "6 0.3678460          \n",
       "7 0.3637072          \n",
       "8 0.3650660          "
      ]
     },
     "metadata": {},
     "output_type": "display_data"
    }
   ],
   "source": [
    "theta_results %>%\n",
    "  group_by(nr_persons, nr_items, nr_dimensions) %>%\n",
    "  summarise(\n",
    "    alpha_deviations = mean(theta_deviations),\n",
    "    alpha_deviations_se = se(theta_deviations),\n",
    "    aplha_deviations_sd = sd(theta_deviations)\n",
    "  )"
   ]
  },
  {
   "cell_type": "code",
   "execution_count": 140,
   "id": "96854d3d",
   "metadata": {},
   "outputs": [
    {
     "data": {
      "image/png": "[encoded data removed]",
      "text/plain": [
       "plot without title"
      ]
     },
     "metadata": {
      "image/png": {
       "height": 420,
       "width": 420
      }
     },
     "output_type": "display_data"
    }
   ],
   "source": [
    "theta_results %>%\n",
    "    ggplot(aes(x=theta_deviations)) + \n",
    "        geom_vline(xintercept=0, linetype=\"dashed\", size=1.2) +\n",
    "        geom_histogram(bins=100, alpha=.6) "
   ]
  },
  {
   "cell_type": "markdown",
   "id": "f300c6fd",
   "metadata": {},
   "source": [
    "There is no highly visible skew; the errors seem to be more or less normally distributed around the true value"
   ]
  },
  {
   "cell_type": "code",
   "execution_count": 141,
   "id": "d49686b1",
   "metadata": {},
   "outputs": [
    {
     "data": {
      "text/html": [
       "-0.00276520244426928"
      ],
      "text/latex": [
       "-0.00276520244426928"
      ],
      "text/markdown": [
       "-0.00276520244426928"
      ],
      "text/plain": [
       "[1] -0.002765202"
      ]
     },
     "metadata": {},
     "output_type": "display_data"
    },
    {
     "data": {
      "text/html": [
       "4.43098459101316"
      ],
      "text/latex": [
       "4.43098459101316"
      ],
      "text/markdown": [
       "4.43098459101316"
      ],
      "text/plain": [
       "[1] 4.430985"
      ]
     },
     "metadata": {},
     "output_type": "display_data"
    }
   ],
   "source": [
    "skewness(theta_results$theta_deviations)\n",
    "kurtosis(theta_results$theta_deviations)"
   ]
  },
  {
   "cell_type": "markdown",
   "id": "274517b1",
   "metadata": {},
   "source": [
    "Small skew to the left; more values in the tails than under normal assumption."
   ]
  },
  {
   "cell_type": "code",
   "execution_count": 142,
   "id": "717e73d2",
   "metadata": {},
   "outputs": [
    {
     "data": {
      "image/png": "[encoded data removed]",
      "text/plain": [
       "plot without title"
      ]
     },
     "metadata": {
      "image/png": {
       "height": 420,
       "width": 420
      }
     },
     "output_type": "display_data"
    }
   ],
   "source": [
    "# Distribution\n",
    "theta_results %>%\n",
    "    ggplot(aes(x=theta_deviations, col=as.factor(nr_dimensions))) + \n",
    "        geom_vline(xintercept=0, linetype=\"dashed\", size=1.2) +\n",
    "        stat_ecdf(size=1.2) +\n",
    "        coord_cartesian(xlim=c(-1.5, 1.5))"
   ]
  },
  {
   "cell_type": "markdown",
   "id": "f4ac2c93",
   "metadata": {},
   "source": [
    "More dimensions lead to a little more deviations here as well."
   ]
  },
  {
   "cell_type": "code",
   "execution_count": 174,
   "id": "d427eacf",
   "metadata": {},
   "outputs": [
    {
     "data": {
      "image/png": "[encoded data removed]",
      "text/plain": [
       "plot without title"
      ]
     },
     "metadata": {
      "image/png": {
       "height": 420,
       "width": 420
      }
     },
     "output_type": "display_data"
    }
   ],
   "source": [
    "# Mean and SE\n",
    "theta_results %>%\n",
    "  ggplot(aes(x=as.factor(nr_items), y=theta_deviations, fill=as.factor(nr_dimensions))) +\n",
    "    geom_violin(alpha=.3) +\n",
    "    geom_boxplot(alpha=.5, position = position_dodge(.9)) +\n",
    "    facet_wrap(~as.factor(nr_persons))"
   ]
  },
  {
   "cell_type": "code",
   "execution_count": null,
   "id": "32b28b1a",
   "metadata": {},
   "outputs": [],
   "source": []
  },
  {
   "cell_type": "markdown",
   "id": "0d003358",
   "metadata": {},
   "source": [
    "Here again, it looks like the estimation is more stable for one dimension, but still acceptable and not biased for more dimensions."
   ]
  },
  {
   "cell_type": "code",
   "execution_count": 146,
   "id": "bbca1879",
   "metadata": {},
   "outputs": [
    {
     "name": "stderr",
     "output_type": "stream",
     "text": [
      "\u001b[1m\u001b[22m`summarise()` has grouped output by 'nr_persons', 'nr_items'. You can override using the `.groups` argument.\n"
     ]
    },
    {
     "data": {
      "image/png": "[encoded data removed]",
      "text/plain": [
       "plot without title"
      ]
     },
     "metadata": {
      "image/png": {
       "height": 420,
       "width": 420
      }
     },
     "output_type": "display_data"
    }
   ],
   "source": [
    "# Mean and SE\n",
    "theta_results %>%\n",
    "  group_by(nr_persons, nr_items, nr_dimensions) %>%\n",
    "  summarise(\n",
    "    theta_deviations_ = mean(theta_deviations),\n",
    "    theta_deviations_se = se(theta_deviations)\n",
    "  ) %>% \n",
    "  ggplot(aes(x=as.factor(nr_items), y=theta_deviations_, fill=as.factor(nr_dimensions))) +\n",
    "    geom_bar(stat=\"identity\", position = position_dodge()) +\n",
    "    facet_wrap(~as.factor(nr_persons), scales=\"free\") +\n",
    "    geom_errorbar(\n",
    "        aes(\n",
    "            x=as.factor(nr_items), \n",
    "            ymin=theta_deviations_ - 1.96 * theta_deviations_se, \n",
    "            ymax=theta_deviations_ + 1.96 * theta_deviations_se\n",
    "        ), \n",
    "        width=.3,\n",
    "        position=position_dodge(.9)\n",
    "    ) +\n",
    "    geom_hline(yintercept=0, linetype=\"dashed\", size=1.2) +\n",
    "    coord_cartesian(ylim=c(-.1, .1))"
   ]
  },
  {
   "cell_type": "markdown",
   "id": "3c3be0c3",
   "metadata": {},
   "source": [
    "[**back to contents**](#contents)"
   ]
  },
  {
   "cell_type": "markdown",
   "id": "4177c39e",
   "metadata": {},
   "source": [
    "<a id='theta_dev_stats'></a>\n",
    "### Statistical analyses"
   ]
  },
  {
   "cell_type": "markdown",
   "id": "5ebd537f",
   "metadata": {},
   "source": [
    "**Do 200 vs. 300 people make a difference?**"
   ]
  },
  {
   "cell_type": "code",
   "execution_count": 147,
   "id": "b7ea319c",
   "metadata": {},
   "outputs": [
    {
     "data": {
      "text/plain": [
       "\n",
       "\tWelch Two Sample t-test\n",
       "\n",
       "data:  theta_results %>% filter(nr_persons == 200) %>% select(theta_deviations) and theta_results %>% filter(nr_persons == 300) %>% select(theta_deviations)\n",
       "t = 0.93108, df = 168192, p-value = 0.3518\n",
       "alternative hypothesis: true difference in means is not equal to 0\n",
       "95 percent confidence interval:\n",
       " -0.001649258  0.004634181\n",
       "sample estimates:\n",
       "   mean of x    mean of y \n",
       "-0.001591331 -0.003083793 \n"
      ]
     },
     "metadata": {},
     "output_type": "display_data"
    }
   ],
   "source": [
    "# Does it make a difference whether we use 200 or 300 people?\n",
    "t.test(\n",
    "    theta_results %>% filter(nr_persons == 200) %>% select(theta_deviations),\n",
    "    theta_results %>% filter(nr_persons == 300) %>% select(theta_deviations),\n",
    ")"
   ]
  },
  {
   "cell_type": "code",
   "execution_count": 148,
   "id": "b1d813f1",
   "metadata": {},
   "outputs": [
    {
     "data": {
      "text/plain": [
       "\n",
       "\tF test to compare two variances\n",
       "\n",
       "data:  theta_results %>% filter(nr_persons == 200) %>% pull(theta_deviations) and theta_results %>% filter(nr_persons == 300) %>% pull(theta_deviations)\n",
       "F = 1.0561, num df = 79999, denom df = 119999, p-value < 2.2e-16\n",
       "alternative hypothesis: true ratio of variances is not equal to 1\n",
       "95 percent confidence interval:\n",
       " 1.042879 1.069604\n",
       "sample estimates:\n",
       "ratio of variances \n",
       "          1.056149 \n"
      ]
     },
     "metadata": {},
     "output_type": "display_data"
    }
   ],
   "source": [
    "var.test(\n",
    "    theta_results %>% filter(nr_persons == 200) %>% pull(theta_deviations),\n",
    "    theta_results %>% filter(nr_persons == 300) %>% pull(theta_deviations),\n",
    ")"
   ]
  },
  {
   "cell_type": "markdown",
   "id": "872db446",
   "metadata": {},
   "source": [
    "We see that \n",
    "* the estimates are not less biased (not statistically significant)\n",
    "* the estimations are more closely centered for 300 people, i.e. they have less variance around the true value"
   ]
  },
  {
   "cell_type": "markdown",
   "id": "ac7e803e",
   "metadata": {},
   "source": [
    "**Does the interaction of number of persons and number of dimensions make a difference?**"
   ]
  },
  {
   "cell_type": "code",
   "execution_count": 156,
   "id": "2ceea3a0",
   "metadata": {},
   "outputs": [],
   "source": [
    "theta_results_without_outliers <- remove_outliers(theta_results, \"theta_deviations\", .015)"
   ]
  },
  {
   "cell_type": "code",
   "execution_count": 157,
   "id": "8e01eb84",
   "metadata": {},
   "outputs": [],
   "source": [
    "m0 <- lm(\n",
    "    theta_deviations ~\n",
    "    as.factor(nr_persons) * nr_dimensions, \n",
    "    theta_results_without_outliers\n",
    ")"
   ]
  },
  {
   "cell_type": "code",
   "execution_count": 158,
   "id": "01a6d072",
   "metadata": {},
   "outputs": [
    {
     "data": {
      "image/png": "[encoded data removed]",
      "text/plain": [
       "Plot with title \"\""
      ]
     },
     "metadata": {
      "image/png": {
       "height": 420,
       "width": 420
      }
     },
     "output_type": "display_data"
    },
    {
     "data": {
      "image/png": "[encoded data removed]",
      "text/plain": [
       "Plot with title \"\""
      ]
     },
     "metadata": {
      "image/png": {
       "height": 420,
       "width": 420
      }
     },
     "output_type": "display_data"
    },
    {
     "data": {
      "image/png": "[encoded data removed]",
      "text/plain": [
       "Plot with title \"\""
      ]
     },
     "metadata": {
      "image/png": {
       "height": 420,
       "width": 420
      }
     },
     "output_type": "display_data"
    },
    {
     "data": {
      "image/png": "[encoded data removed]",
      "text/plain": [
       "Plot with title \"\""
      ]
     },
     "metadata": {
      "image/png": {
       "height": 420,
       "width": 420
      }
     },
     "output_type": "display_data"
    }
   ],
   "source": [
    "plot(m0)"
   ]
  },
  {
   "cell_type": "code",
   "execution_count": 159,
   "id": "d415ac0b",
   "metadata": {},
   "outputs": [
    {
     "data": {
      "text/plain": [
       "\n",
       "Call:\n",
       "lm(formula = theta_deviations ~ as.factor(nr_persons) * nr_dimensions, \n",
       "    data = theta_results_without_outliers)\n",
       "\n",
       "Residuals:\n",
       "     Min       1Q   Median       3Q      Max \n",
       "-0.81941 -0.20004  0.00022  0.19905  0.81488 \n",
       "\n",
       "Coefficients:\n",
       "                                         Estimate Std. Error t value Pr(>|t|)\n",
       "(Intercept)                            -0.0120037  0.0026210  -4.580 4.66e-06\n",
       "as.factor(nr_persons)300                0.0109136  0.0033824   3.227 0.001253\n",
       "nr_dimensions                           0.0029835  0.0007358   4.055 5.02e-05\n",
       "as.factor(nr_persons)300:nr_dimensions -0.0033941  0.0009495  -3.575 0.000351\n",
       "                                          \n",
       "(Intercept)                            ***\n",
       "as.factor(nr_persons)300               ** \n",
       "nr_dimensions                          ***\n",
       "as.factor(nr_persons)300:nr_dimensions ***\n",
       "---\n",
       "Signif. codes:  0 '***' 0.001 '**' 0.01 '*' 0.05 '.' 0.1 ' ' 1\n",
       "\n",
       "Residual standard error: 0.3042 on 193996 degrees of freedom\n",
       "Multiple R-squared:  8.718e-05,\tAdjusted R-squared:  7.171e-05 \n",
       "F-statistic: 5.638 on 3 and 193996 DF,  p-value: 0.0007366\n"
      ]
     },
     "metadata": {},
     "output_type": "display_data"
    }
   ],
   "source": [
    "summary(m0)"
   ]
  },
  {
   "cell_type": "markdown",
   "id": "213bad3f",
   "metadata": {},
   "source": [
    "We see the following:\n",
    "* Since the intercept is negative, a positive coefficient corresponds to an improvement in estimation accuracy (as long as it does not overshoot)\n",
    "* 300 people lead to a less biased estimation\n",
    "* An increase in the number of dimensions has a small effect in that the estimation becomes less negatively biased.\n",
    "* The interaction is negative, i.e. with more dimensions and people, the estimation is biased a little towards more negative.\n",
    "\n",
    "However, the model should not be trusted blindly, it is not particularly good."
   ]
  },
  {
   "cell_type": "code",
   "execution_count": 169,
   "id": "2bf22687",
   "metadata": {},
   "outputs": [],
   "source": [
    "m1 <- mgcv::gam(\n",
    "    theta_deviations  ~\n",
    "    s(nr_dimensions, by=nr_persons, k=4), \n",
    "    data=theta_results_without_outliers\n",
    ")"
   ]
  },
  {
   "cell_type": "code",
   "execution_count": 170,
   "id": "ca660158",
   "metadata": {},
   "outputs": [
    {
     "name": "stdout",
     "output_type": "stream",
     "text": [
      "\n",
      "Method: GCV   Optimizer: magic\n",
      "Smoothing parameter selection converged after 7 iterations.\n",
      "The RMS GCV score gradient at convergence was 1.565851e-08 .\n",
      "The Hessian was positive definite.\n",
      "Model rank =  5 / 5 \n",
      "\n",
      "Basis dimension (k) checking results. Low p-value (k-index<1) may\n",
      "indicate that k is too low, especially if edf is close to k'.\n",
      "\n",
      "                              k'  edf k-index p-value\n",
      "s(nr_dimensions):nr_persons 4.00 3.91    0.99    0.17\n"
     ]
    },
    {
     "data": {
      "image/png": "[encoded data removed]",
      "text/plain": [
       "Plot with title \"Response vs. Fitted Values\""
      ]
     },
     "metadata": {
      "image/png": {
       "height": 420,
       "width": 420
      }
     },
     "output_type": "display_data"
    }
   ],
   "source": [
    "gam.check(m1)"
   ]
  },
  {
   "cell_type": "code",
   "execution_count": 171,
   "id": "53db3d6a",
   "metadata": {},
   "outputs": [
    {
     "data": {
      "text/plain": [
       "\n",
       "Family: gaussian \n",
       "Link function: identity \n",
       "\n",
       "Formula:\n",
       "theta_deviations ~ s(nr_dimensions, by = nr_persons, k = 4)\n",
       "\n",
       "Parametric coefficients:\n",
       "             Estimate Std. Error t value Pr(>|t|)\n",
       "(Intercept) -0.002191   0.003732  -0.587    0.557\n",
       "\n",
       "Approximate significance of smooth terms:\n",
       "                              edf Ref.df     F p-value   \n",
       "s(nr_dimensions):nr_persons 3.915  3.994 4.419 0.00155 **\n",
       "---\n",
       "Signif. codes:  0 '***' 0.001 '**' 0.01 '*' 0.05 '.' 0.1 ' ' 1\n",
       "\n",
       "R-sq.(adj) =  7.7e-05   Deviance explained = 0.00971%\n",
       "GCV = 0.092567  Scale est. = 0.092565  n = 194000"
      ]
     },
     "metadata": {},
     "output_type": "display_data"
    }
   ],
   "source": [
    "summary(m1)"
   ]
  },
  {
   "cell_type": "code",
   "execution_count": 172,
   "id": "a67900c3",
   "metadata": {},
   "outputs": [
    {
     "data": {
      "image/png": "[encoded data removed]",
      "text/plain": [
       "plot without title"
      ]
     },
     "metadata": {
      "image/png": {
       "height": 420,
       "width": 420
      }
     },
     "output_type": "display_data"
    }
   ],
   "source": [
    "vis.gam(m1, theta=124, too.far = .3, ticktype=\"detailed\")"
   ]
  },
  {
   "cell_type": "markdown",
   "id": "f803a849",
   "metadata": {},
   "source": [
    "The GAM predicts that more persons actually lead to a slightly more biased estimation."
   ]
  },
  {
   "cell_type": "code",
   "execution_count": null,
   "id": "84b9500a",
   "metadata": {},
   "outputs": [],
   "source": []
  },
  {
   "cell_type": "markdown",
   "id": "3619834b",
   "metadata": {},
   "source": [
    "[**back to contents**](#contents)"
   ]
  },
  {
   "cell_type": "markdown",
   "id": "a61740c7",
   "metadata": {},
   "source": [
    "<a id='conclusions'></a>\n",
    "## Conclusions"
   ]
  },
  {
   "cell_type": "markdown",
   "id": "d84b5959",
   "metadata": {},
   "source": [
    "It looks like the following holds true for all parameters:\n",
    "* **The overall bias of the parameter estimation is surprisingly low**, given the vast amount of parameters to estimate\n",
    "    * This is also true for the G factor when fitting multidimensional models.\n",
    "* **With 300 people compared to 200 people, there is no real visible effect on the bias of the estimation.**\n",
    "    * For the theta and beta parameters, the differences are non-significant\n",
    "    * For the alpha parameters, 300 people do lead to an improved, i.e. less biased estimation\n",
    "* **300 people lead to more accurate estimations in that the scatter around the true values are smaller**.\n",
    "    * This holds true for all three parameter types estimated in the model.\n",
    "* **A unidimensional model leads to more accurate estimations (less variance) compared to a multidimensional model.**\n",
    "    * This is true for all parameter types estimated.\n",
    "    * That being said, the variance is still acceptable for the multidimensional models.\n",
    "\n",
    "Therefore, the best model to choose based on these findings would be a unidimensional model with 300 persons."
   ]
  }
 ],
 "metadata": {
  "kernelspec": {
   "display_name": "R",
   "language": "R",
   "name": "ir"
  },
  "language_info": {
   "codemirror_mode": "r",
   "file_extension": ".r",
   "mimetype": "text/x-r-source",
   "name": "R",
   "pygments_lexer": "r",
   "version": "4.2.0"
  }
 },
 "nbformat": 4,
 "nbformat_minor": 5
}
